{
 "cells": [
  {
   "cell_type": "markdown",
   "id": "handed-tissue",
   "metadata": {},
   "source": [
    "# Temperature Analysis 2: Bonus"
   ]
  },
  {
   "cell_type": "code",
   "execution_count": 1,
   "id": "limiting-explanation",
   "metadata": {},
   "outputs": [],
   "source": [
    "# Import dependencies for matplotlib\n",
    "%matplotlib inline\n",
    "from matplotlib import style\n",
    "style.use('fivethirtyeight')\n",
    "import matplotlib.pyplot as plt"
   ]
  },
  {
   "cell_type": "code",
   "execution_count": 2,
   "id": "undefined-substitute",
   "metadata": {},
   "outputs": [],
   "source": [
    "# Import other dependencies\n",
    "import numpy as np\n",
    "import pandas as pd\n",
    "import datetime as dt"
   ]
  },
  {
   "cell_type": "code",
   "execution_count": 3,
   "id": "optional-demand",
   "metadata": {},
   "outputs": [],
   "source": [
    "# Import SQL Alchemy dependencies\n",
    "import sqlalchemy\n",
    "from sqlalchemy.ext.automap import automap_base\n",
    "from sqlalchemy.orm import Session\n",
    "from sqlalchemy import create_engine, func"
   ]
  },
  {
   "cell_type": "code",
   "execution_count": 4,
   "id": "corrected-seeking",
   "metadata": {},
   "outputs": [],
   "source": [
    "# Create the engine to the Hawaii SQLite Database\n",
    "engine = create_engine(\"sqlite:///Resources/hawaii.sqlite\")"
   ]
  },
  {
   "cell_type": "code",
   "execution_count": 5,
   "id": "initial-creek",
   "metadata": {},
   "outputs": [],
   "source": [
    "# Create a base and prepare the base\n",
    "Base = automap_base()\n",
    "Base.prepare(engine, reflect = True)"
   ]
  },
  {
   "cell_type": "code",
   "execution_count": 6,
   "id": "coated-anthropology",
   "metadata": {},
   "outputs": [
    {
     "data": {
      "text/plain": [
       "['measurement', 'station']"
      ]
     },
     "execution_count": 6,
     "metadata": {},
     "output_type": "execute_result"
    }
   ],
   "source": [
    "# See the classes in the database\n",
    "Base.classes.keys()"
   ]
  },
  {
   "cell_type": "code",
   "execution_count": 7,
   "id": "novel-possible",
   "metadata": {},
   "outputs": [],
   "source": [
    "# Save a reference to the tables\n",
    "Station = Base.classes.station\n",
    "Measurement = Base.classes.measurement"
   ]
  },
  {
   "cell_type": "code",
   "execution_count": 8,
   "id": "drawn-editor",
   "metadata": {},
   "outputs": [],
   "source": [
    "# Start a session\n",
    "session = Session(engine)"
   ]
  },
  {
   "cell_type": "code",
   "execution_count": 9,
   "id": "unnecessary-parks",
   "metadata": {},
   "outputs": [],
   "source": [
    "# Function from provided starter code:\n",
    "# This function called `calc_temps` will accept start date and end date in the format '%Y-%m-%d' \n",
    "# and return the minimum, maximum, and average temperatures for that range of dates\n",
    "def calc_temps(start_date, end_date):\n",
    "    \"\"\"TMIN, TAVG, and TMAX for a list of dates.\n",
    "    \n",
    "    Args:\n",
    "        start_date (string): A date string in the format %Y-%m-%d\n",
    "        end_date (string): A date string in the format %Y-%m-%d\n",
    "        \n",
    "    Returns:\n",
    "        TMIN, TAVG, and TMAX\n",
    "    \"\"\"\n",
    "    \n",
    "    return session.query(func.min(Measurement.tobs), func.avg(Measurement.tobs), func.max(Measurement.tobs)).\\\n",
    "        filter(Measurement.date >= start_date).filter(Measurement.date <= end_date).all()"
   ]
  },
  {
   "cell_type": "code",
   "execution_count": 10,
   "id": "hydraulic-layout",
   "metadata": {},
   "outputs": [],
   "source": [
    "# Find temperature between two dates\n",
    "#temperature_stats = calc_temps('2017-08-01', '2017-08-07')\n",
    "#print(temperature_stats)"
   ]
  },
  {
   "cell_type": "markdown",
   "id": "corrected-territory",
   "metadata": {},
   "source": [
    "## Temperature Statistics:"
   ]
  },
  {
   "cell_type": "code",
   "execution_count": 11,
   "id": "peaceful-botswana",
   "metadata": {},
   "outputs": [
    {
     "name": "stdout",
     "output_type": "stream",
     "text": [
      "Let's find temperature statistics for a range of dates!\n",
      "Input dates in the format YYYY-mm-dd\n",
      "What date would you like to start with? 2016-06-18\n",
      "What date would you like to end with? 2016-06-23\n"
     ]
    }
   ],
   "source": [
    "# Input from user\n",
    "print(\"Let's find temperature statistics for a range of dates!\")\n",
    "print(\"Input dates in the format YYYY-mm-dd\")\n",
    "start_date = input(\"What date would you like to start with? \")\n",
    "end_date = input(\"What date would you like to end with? \")\n",
    "\n",
    "temperature_stats = calc_temps(start_date, end_date)"
   ]
  },
  {
   "cell_type": "code",
   "execution_count": 12,
   "id": "ongoing-indian",
   "metadata": {},
   "outputs": [],
   "source": [
    "# Convert tuple to a list\n",
    "temp_stats = list(np.ravel(temperature_stats))\n",
    "\n",
    "# Create variables for the values\n",
    "average_temp = temp_stats[1]\n",
    "min_temp = temp_stats[0]\n",
    "max_temp = temp_stats[2]"
   ]
  },
  {
   "cell_type": "code",
   "execution_count": 13,
   "id": "sacred-hypothesis",
   "metadata": {},
   "outputs": [
    {
     "name": "stdout",
     "output_type": "stream",
     "text": [
      "Temperature Statistics for 2016-06-18 to 2016-06-23\n",
      "Minimum Temperature: 71.0\n",
      "Maximum Temperature: 80.0\n",
      "Average Temperature: 76.075\n"
     ]
    }
   ],
   "source": [
    "# Print out results\n",
    "print(f\"Temperature Statistics for {start_date} to {end_date}\")\n",
    "print(f\"Minimum Temperature: {min_temp}\")\n",
    "print(f\"Maximum Temperature: {max_temp}\")\n",
    "print(f\"Average Temperature: {average_temp}\")"
   ]
  },
  {
   "cell_type": "code",
   "execution_count": 14,
   "id": "crazy-citation",
   "metadata": {},
   "outputs": [
    {
     "data": {
      "image/png": "[encoded data removed]",
      "text/plain": [
       "<Figure size 288x360 with 1 Axes>"
      ]
     },
     "metadata": {},
     "output_type": "display_data"
    }
   ],
   "source": [
    "# Plot the average temperature\n",
    "plt.figure(figsize=(4,5))\n",
    "plt.bar(1,average_temp, width=0.2, align=\"center\", yerr=(max_temp-min_temp))\n",
    "plt.xlim(0.5,1.5)\n",
    "plt.ylim(0,100)\n",
    "plt.title(\"Trip Avg Temperature\")\n",
    "plt.ylabel(\"Temperature (F)\")\n",
    "plt.show()"
   ]
  },
  {
   "cell_type": "code",
   "execution_count": 15,
   "id": "growing-legend",
   "metadata": {},
   "outputs": [],
   "source": [
    "# Create a function that will find the details of the rainfall at each station\n",
    "def calc_rainfall(start_date, end_date):\n",
    "    \"\"\"Precipitation and Station details for a list of dates.\n",
    "    \n",
    "    Args:\n",
    "        start_date (string): A date string in the format %Y-%m-%d\n",
    "        end_date (string): A date string in the format %Y-%m-%d\n",
    "        \n",
    "    Returns:\n",
    "        AVG Precipitation, Station, Station Name, Latitude, Longitude, Elevation\n",
    "    \"\"\"\n",
    "    \n",
    "    return session.query(func.avg(Measurement.prcp), Station.station, Station.name, Station.latitude, Station.longitude, Station.elevation).\\\n",
    "        filter(Measurement.date >= start_date).filter(Station.station == Measurement.station).\\\n",
    "        filter(Measurement.date <= end_date).order_by(func.avg(Measurement.prcp).desc()).group_by(Station.station).all()"
   ]
  },
  {
   "cell_type": "code",
   "execution_count": 16,
   "id": "graduate-serbia",
   "metadata": {},
   "outputs": [
    {
     "data": {
      "text/plain": [
       "[(0.9448387096774191, 'USC00516128', 'MANOA LYON ARBO 785.2, HI US', 21.3331, -157.8025, 152.4),\n",
       " (0.26193548387096766, 'USC00519281', 'WAIHEE 837.5, HI US', 21.45167, -157.84888999999998, 32.9),\n",
       " (0.15041666666666664, 'USC00514830', 'KUALOA RANCH HEADQUARTERS 886.9, HI US', 21.5213, -157.8374, 7.0),\n",
       " (0.1170967741935484, 'USC00513117', 'KANEOHE 838.1, HI US', 21.4234, -157.8015, 14.6),\n",
       " (0.10999999999999996, 'USC00519523', 'WAIMANALO EXPERIMENTAL FARM, HI US', 21.33556, -157.71139, 19.5),\n",
       " (0.06612903225806452, 'USC00519397', 'WAIKIKI 717.2, HI US', 21.2716, -157.8168, 3.0),\n",
       " (0.02428571428571429, 'USC00517948', 'PEARL CITY, HI US', 21.3934, -157.9751, 11.9)]"
      ]
     },
     "execution_count": 16,
     "metadata": {},
     "output_type": "execute_result"
    }
   ],
   "source": [
    "# Find the rainfall for a range of dates\n",
    "rainfall = (calc_rainfall(\"2016-09-08\", \"2016-10-08\"))\n",
    "rainfall"
   ]
  },
  {
   "cell_type": "code",
   "execution_count": 17,
   "id": "formal-teens",
   "metadata": {},
   "outputs": [],
   "source": [
    "# Function provided from starter notebook\n",
    "# Use this function to calculate the daily normals \n",
    "# (i.e. the averages for tmin, tmax, and tavg for all historic data matching a specific month and day)\n",
    "\n",
    "def daily_normals(date):\n",
    "    \"\"\"Daily Normals.\n",
    "    \n",
    "    Args:\n",
    "        date (str): A date string in the format '%m-%d'\n",
    "        \n",
    "    Returns:\n",
    "        A list of tuples containing the daily normals, tmin, tavg, and tmax\n",
    "    \n",
    "    \"\"\"\n",
    "    \n",
    "    sel = [func.min(Measurement.tobs), func.avg(Measurement.tobs), func.max(Measurement.tobs)]\n",
    "    return session.query(*sel).filter(func.strftime(\"%m-%d\", Measurement.date) == date).all()\n",
    "\n",
    "# For example\n",
    "normal_temp = daily_normals(\"01-01\")"
   ]
  },
  {
   "cell_type": "markdown",
   "id": "employed-macedonia",
   "metadata": {},
   "source": [
    "## User-Generated:"
   ]
  },
  {
   "cell_type": "raw",
   "id": "simplified-arrow",
   "metadata": {},
   "source": [
    "# Input from user\n",
    "print(\"Let's find daily normal temperature statistics for a month and date!\")\n",
    "print(\"Input dates in the format mm-dd\")\n",
    "date = input(\"What date would you like to look at? \")\n",
    "\n",
    "normal_temp = daily_normals(date)"
   ]
  },
  {
   "cell_type": "raw",
   "id": "rising-pointer",
   "metadata": {},
   "source": [
    "# calculate the daily normals for your trip\n",
    "# push each tuple of calculations into a list called `normals`\n",
    "daily_normals_temp = list(np.ravel(normal_temp))\n",
    "\n",
    "# Create variables for the values\n",
    "average_temp = normals[1]\n",
    "min_temp = normals[0]\n",
    "max_temp = normals[2]"
   ]
  },
  {
   "cell_type": "raw",
   "id": "assumed-witness",
   "metadata": {},
   "source": [
    "# Print out results\n",
    "print(f\"Temperature Statistics for {date}\")\n",
    "print(f\"Minimum Temperature: {min_temp}\")\n",
    "print(f\"Maximum Temperature: {max_temp}\")\n",
    "print(f\"Average Temperature: {average_temp}\")"
   ]
  },
  {
   "cell_type": "markdown",
   "id": "occupational-chase",
   "metadata": {},
   "source": [
    "## Daily Averages:"
   ]
  },
  {
   "cell_type": "code",
   "execution_count": 24,
   "id": "modified-rings",
   "metadata": {},
   "outputs": [],
   "source": [
    "# Set the start and end date of the trip\n",
    "start_date = '2017-06-01'\n",
    "end_date = '2017-06-18'"
   ]
  },
  {
   "cell_type": "code",
   "execution_count": 25,
   "id": "first-maine",
   "metadata": {},
   "outputs": [
    {
     "data": {
      "text/plain": [
       "['06-01',\n",
       " '06-02',\n",
       " '06-03',\n",
       " '06-04',\n",
       " '06-05',\n",
       " '06-06',\n",
       " '06-07',\n",
       " '06-08',\n",
       " '06-09',\n",
       " '06-10',\n",
       " '06-11',\n",
       " '06-12',\n",
       " '06-13',\n",
       " '06-14',\n",
       " '06-15',\n",
       " '06-16',\n",
       " '06-17',\n",
       " '06-18']"
      ]
     },
     "execution_count": 25,
     "metadata": {},
     "output_type": "execute_result"
    }
   ],
   "source": [
    "# Use the start and end date to create a range of dates\n",
    "start = dt.datetime.strptime(start_date, \"%Y-%m-%d\")\n",
    "end = dt.datetime.strptime(end_date, \"%Y-%m-%d\")\n",
    "\n",
    "# Find the number of dates in the range\n",
    "num_of_dates = (end - start).days + 1\n",
    "\n",
    "# Create a list of the dates range\n",
    "dates_range = []\n",
    "\n",
    "# Loop through and append each date to the list\n",
    "# Strip off the year and save a list of strings in the format %m-%d\n",
    "for x in range(num_of_dates):\n",
    "    dates = start + dt.timedelta(days=x)\n",
    "    dates_month_day = dt.datetime.strftime(dates, \"%m-%d\")\n",
    "    dates_range.append(dates_month_day)\n",
    "    \n",
    "dates_range"
   ]
  },
  {
   "cell_type": "code",
   "execution_count": 26,
   "id": "several-classic",
   "metadata": {},
   "outputs": [
    {
     "data": {
      "text/plain": [
       "[[64.0, 74.6140350877193, 81.0],\n",
       " [65.0, 74.4, 81.0],\n",
       " [65.0, 74.03448275862068, 80.0],\n",
       " [65.0, 73.81818181818181, 81.0],\n",
       " [68.0, 74.85454545454546, 81.0],\n",
       " [70.0, 75.17543859649123, 80.0],\n",
       " [68.0, 75.07142857142857, 81.0],\n",
       " [70.0, 75.58620689655173, 81.0],\n",
       " [69.0, 75.15254237288136, 81.0],\n",
       " [68.0, 75.14285714285714, 81.0],\n",
       " [69.0, 76.01960784313725, 84.0],\n",
       " [66.0, 75.66666666666667, 83.0],\n",
       " [68.0, 75.66666666666667, 81.0],\n",
       " [69.0, 75.62711864406779, 81.0],\n",
       " [67.0, 75.40350877192982, 81.0],\n",
       " [69.0, 75.41379310344827, 81.0],\n",
       " [68.0, 74.59322033898304, 81.0],\n",
       " [69.0, 74.60344827586206, 80.0]]"
      ]
     },
     "execution_count": 26,
     "metadata": {},
     "output_type": "execute_result"
    }
   ],
   "source": [
    "# Use the `daily_normals` function to calculate the normals for each date string \n",
    "# and append the results to a list called `normals`.\n",
    "normals = []\n",
    "\n",
    "# Loop through and calculate the data, and append it to a list without the tuple\n",
    "for x in dates_range:\n",
    "    normal_temp = daily_normals(x)\n",
    "    normals.append(list(np.ravel(normal_temp)))\n",
    "\n",
    "normals"
   ]
  },
  {
   "cell_type": "code",
   "execution_count": 27,
   "id": "novel-interest",
   "metadata": {},
   "outputs": [
    {
     "data": {
      "text/html": [
       "<div>\n",
       "<style scoped>\n",
       "    .dataframe tbody tr th:only-of-type {\n",
       "        vertical-align: middle;\n",
       "    }\n",
       "\n",
       "    .dataframe tbody tr th {\n",
       "        vertical-align: top;\n",
       "    }\n",
       "\n",
       "    .dataframe thead th {\n",
       "        text-align: right;\n",
       "    }\n",
       "</style>\n",
       "<table border=\"1\" class=\"dataframe\">\n",
       "  <thead>\n",
       "    <tr style=\"text-align: right;\">\n",
       "      <th></th>\n",
       "      <th>min</th>\n",
       "      <th>avg</th>\n",
       "      <th>max</th>\n",
       "    </tr>\n",
       "    <tr>\n",
       "      <th>date</th>\n",
       "      <th></th>\n",
       "      <th></th>\n",
       "      <th></th>\n",
       "    </tr>\n",
       "  </thead>\n",
       "  <tbody>\n",
       "    <tr>\n",
       "      <th>06-01</th>\n",
       "      <td>64.0</td>\n",
       "      <td>74.614035</td>\n",
       "      <td>81.0</td>\n",
       "    </tr>\n",
       "    <tr>\n",
       "      <th>06-02</th>\n",
       "      <td>65.0</td>\n",
       "      <td>74.400000</td>\n",
       "      <td>81.0</td>\n",
       "    </tr>\n",
       "    <tr>\n",
       "      <th>06-03</th>\n",
       "      <td>65.0</td>\n",
       "      <td>74.034483</td>\n",
       "      <td>80.0</td>\n",
       "    </tr>\n",
       "    <tr>\n",
       "      <th>06-04</th>\n",
       "      <td>65.0</td>\n",
       "      <td>73.818182</td>\n",
       "      <td>81.0</td>\n",
       "    </tr>\n",
       "    <tr>\n",
       "      <th>06-05</th>\n",
       "      <td>68.0</td>\n",
       "      <td>74.854545</td>\n",
       "      <td>81.0</td>\n",
       "    </tr>\n",
       "    <tr>\n",
       "      <th>06-06</th>\n",
       "      <td>70.0</td>\n",
       "      <td>75.175439</td>\n",
       "      <td>80.0</td>\n",
       "    </tr>\n",
       "    <tr>\n",
       "      <th>06-07</th>\n",
       "      <td>68.0</td>\n",
       "      <td>75.071429</td>\n",
       "      <td>81.0</td>\n",
       "    </tr>\n",
       "    <tr>\n",
       "      <th>06-08</th>\n",
       "      <td>70.0</td>\n",
       "      <td>75.586207</td>\n",
       "      <td>81.0</td>\n",
       "    </tr>\n",
       "    <tr>\n",
       "      <th>06-09</th>\n",
       "      <td>69.0</td>\n",
       "      <td>75.152542</td>\n",
       "      <td>81.0</td>\n",
       "    </tr>\n",
       "    <tr>\n",
       "      <th>06-10</th>\n",
       "      <td>68.0</td>\n",
       "      <td>75.142857</td>\n",
       "      <td>81.0</td>\n",
       "    </tr>\n",
       "    <tr>\n",
       "      <th>06-11</th>\n",
       "      <td>69.0</td>\n",
       "      <td>76.019608</td>\n",
       "      <td>84.0</td>\n",
       "    </tr>\n",
       "    <tr>\n",
       "      <th>06-12</th>\n",
       "      <td>66.0</td>\n",
       "      <td>75.666667</td>\n",
       "      <td>83.0</td>\n",
       "    </tr>\n",
       "    <tr>\n",
       "      <th>06-13</th>\n",
       "      <td>68.0</td>\n",
       "      <td>75.666667</td>\n",
       "      <td>81.0</td>\n",
       "    </tr>\n",
       "    <tr>\n",
       "      <th>06-14</th>\n",
       "      <td>69.0</td>\n",
       "      <td>75.627119</td>\n",
       "      <td>81.0</td>\n",
       "    </tr>\n",
       "    <tr>\n",
       "      <th>06-15</th>\n",
       "      <td>67.0</td>\n",
       "      <td>75.403509</td>\n",
       "      <td>81.0</td>\n",
       "    </tr>\n",
       "    <tr>\n",
       "      <th>06-16</th>\n",
       "      <td>69.0</td>\n",
       "      <td>75.413793</td>\n",
       "      <td>81.0</td>\n",
       "    </tr>\n",
       "    <tr>\n",
       "      <th>06-17</th>\n",
       "      <td>68.0</td>\n",
       "      <td>74.593220</td>\n",
       "      <td>81.0</td>\n",
       "    </tr>\n",
       "    <tr>\n",
       "      <th>06-18</th>\n",
       "      <td>69.0</td>\n",
       "      <td>74.603448</td>\n",
       "      <td>80.0</td>\n",
       "    </tr>\n",
       "  </tbody>\n",
       "</table>\n",
       "</div>"
      ],
      "text/plain": [
       "        min        avg   max\n",
       "date                        \n",
       "06-01  64.0  74.614035  81.0\n",
       "06-02  65.0  74.400000  81.0\n",
       "06-03  65.0  74.034483  80.0\n",
       "06-04  65.0  73.818182  81.0\n",
       "06-05  68.0  74.854545  81.0\n",
       "06-06  70.0  75.175439  80.0\n",
       "06-07  68.0  75.071429  81.0\n",
       "06-08  70.0  75.586207  81.0\n",
       "06-09  69.0  75.152542  81.0\n",
       "06-10  68.0  75.142857  81.0\n",
       "06-11  69.0  76.019608  84.0\n",
       "06-12  66.0  75.666667  83.0\n",
       "06-13  68.0  75.666667  81.0\n",
       "06-14  69.0  75.627119  81.0\n",
       "06-15  67.0  75.403509  81.0\n",
       "06-16  69.0  75.413793  81.0\n",
       "06-17  68.0  74.593220  81.0\n",
       "06-18  69.0  74.603448  80.0"
      ]
     },
     "execution_count": 27,
     "metadata": {},
     "output_type": "execute_result"
    }
   ],
   "source": [
    "# Create a dataframe of temperature averages\n",
    "df = pd.DataFrame(normals, columns=[\"min\", \"avg\", \"max\"])\n",
    "df_date = pd.DataFrame(dates_range, columns=[\"date\"])\n",
    "df_merged = pd.concat([df, df_date], axis=1)\n",
    "\n",
    "df_merged.set_index(\"date\")"
   ]
  },
  {
   "cell_type": "code",
   "execution_count": 34,
   "id": "expensive-professor",
   "metadata": {},
   "outputs": [],
   "source": [
    "# Create a list for the xtick positions\n",
    "x = [x for x in range(num_of_dates)]"
   ]
  },
  {
   "cell_type": "code",
   "execution_count": 35,
   "id": "spiritual-oklahoma",
   "metadata": {},
   "outputs": [
    {
     "data": {
      "image/png": "[encoded data removed]",
      "text/plain": [
       "<Figure size 432x288 with 1 Axes>"
      ]
     },
     "metadata": {},
     "output_type": "display_data"
    }
   ],
   "source": [
    "# Create an area plot to show the daily temperatures\n",
    "df_merged.plot.area(stacked=False)\n",
    "plt.xticks(x, dates_range, rotation=\"vertical\")\n",
    "plt.title(\"Daily Temperature\")\n",
    "plt.xlabel(\"Dates\")\n",
    "plt.ylabel(\"Temperature\")\n",
    "plt.show()"
   ]
  },
  {
   "cell_type": "code",
   "execution_count": 36,
   "id": "convenient-former",
   "metadata": {},
   "outputs": [],
   "source": [
    "# Close the session \n",
    "session.close()"
   ]
  }
 ],
 "metadata": {
  "kernelspec": {
   "display_name": "Python [conda env:PythonData] *",
   "language": "python",
   "name": "conda-env-PythonData-py"
  },
  "language_info": {
   "codemirror_mode": {
    "name": "ipython",
    "version": 3
   },
   "file_extension": ".py",
   "mimetype": "text/x-python",
   "name": "python",
   "nbconvert_exporter": "python",
   "pygments_lexer": "ipython3",
   "version": "3.6.10"
  }
 },
 "nbformat": 4,
 "nbformat_minor": 5
}
