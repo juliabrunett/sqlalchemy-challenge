{
 "cells": [
  {
   "cell_type": "markdown",
   "id": "moved-advance",
   "metadata": {},
   "source": [
    "# Temperature Analysis 2: Bonus"
   ]
  },
  {
   "cell_type": "code",
   "execution_count": 1,
   "id": "spread-canyon",
   "metadata": {},
   "outputs": [],
   "source": [
    "# Import dependencies for matplotlib\n",
    "%matplotlib inline\n",
    "from matplotlib import style\n",
    "style.use('fivethirtyeight')\n",
    "import matplotlib.pyplot as plt"
   ]
  },
  {
   "cell_type": "code",
   "execution_count": 2,
   "id": "listed-scientist",
   "metadata": {},
   "outputs": [],
   "source": [
    "# Import other dependencies\n",
    "import numpy as np\n",
    "import pandas as pd\n",
    "import datetime as dt"
   ]
  },
  {
   "cell_type": "code",
   "execution_count": 7,
   "id": "guilty-medicare",
   "metadata": {},
   "outputs": [],
   "source": [
    "# Import SQL Alchemy dependencies\n",
    "import sqlalchemy\n",
    "from sqlalchemy.ext.automap import automap_base\n",
    "from sqlalchemy.orm import Session\n",
    "from sqlalchemy import create_engine, func"
   ]
  },
  {
   "cell_type": "code",
   "execution_count": 8,
   "id": "affiliated-syntax",
   "metadata": {},
   "outputs": [],
   "source": [
    "# Create the engine to the Hawaii SQLite Database\n",
    "engine = create_engine(\"sqlite:///Resources/hawaii.sqlite\")"
   ]
  },
  {
   "cell_type": "code",
   "execution_count": 9,
   "id": "passive-boating",
   "metadata": {},
   "outputs": [],
   "source": [
    "# Create a base and prepare the base\n",
    "Base = automap_base()\n",
    "Base.prepare(engine, reflect = True)"
   ]
  },
  {
   "cell_type": "code",
   "execution_count": 10,
   "id": "champion-leonard",
   "metadata": {},
   "outputs": [
    {
     "data": {
      "text/plain": [
       "['measurement', 'station']"
      ]
     },
     "execution_count": 10,
     "metadata": {},
     "output_type": "execute_result"
    }
   ],
   "source": [
    "# See the classes in the database\n",
    "Base.classes.keys()"
   ]
  },
  {
   "cell_type": "code",
   "execution_count": 12,
   "id": "changing-factory",
   "metadata": {},
   "outputs": [],
   "source": [
    "# Save a reference to the tables\n",
    "Station = Base.classes.station\n",
    "Measurement = Base.classes.measurement"
   ]
  },
  {
   "cell_type": "code",
   "execution_count": 13,
   "id": "documented-cyprus",
   "metadata": {},
   "outputs": [],
   "source": [
    "# Start a session\n",
    "session = Session(engine)"
   ]
  },
  {
   "cell_type": "code",
   "execution_count": 18,
   "id": "inappropriate-national",
   "metadata": {},
   "outputs": [],
   "source": [
    "# Function from provided starter code:\n",
    "# This function called `calc_temps` will accept start date and end date in the format '%Y-%m-%d' \n",
    "# and return the minimum, maximum, and average temperatures for that range of dates\n",
    "def calc_temps(start_date, end_date):\n",
    "    \"\"\"TMIN, TAVG, and TMAX for a list of dates.\n",
    "    \n",
    "    Args:\n",
    "        start_date (string): A date string in the format %Y-%m-%d\n",
    "        end_date (string): A date string in the format %Y-%m-%d\n",
    "        \n",
    "    Returns:\n",
    "        TMIN, TAVG, and TMAX\n",
    "    \"\"\"\n",
    "    \n",
    "    return session.query(func.min(Measurement.tobs), func.avg(Measurement.tobs), func.max(Measurement.tobs)).\\\n",
    "        filter(Measurement.date >= start_date).filter(Measurement.date <= end_date).all()"
   ]
  },
  {
   "cell_type": "code",
   "execution_count": 29,
   "id": "searching-danish",
   "metadata": {},
   "outputs": [],
   "source": [
    "# Find temperature between two dates\n",
    "#temperature_stats = calc_temps('2017-08-01', '2017-08-07')\n",
    "#print(temperature_stats)"
   ]
  },
  {
   "cell_type": "markdown",
   "id": "passive-wellington",
   "metadata": {},
   "source": [
    "## Temperature Statistics:"
   ]
  },
  {
   "cell_type": "code",
   "execution_count": 39,
   "id": "secure-toner",
   "metadata": {},
   "outputs": [
    {
     "name": "stdout",
     "output_type": "stream",
     "text": [
      "Let's find temperature statistics for a range of dates!\n",
      "Input dates in the format YYYY-mm-dd\n",
      "What date would you like to start with? 2016-10-08\n",
      "What date would you like to end with? 2016-11-09\n"
     ]
    }
   ],
   "source": [
    "# Input from user\n",
    "print(\"Let's find temperature statistics for a range of dates!\")\n",
    "print(\"Input dates in the format YYYY-mm-dd\")\n",
    "start_date = input(\"What date would you like to start with? \")\n",
    "end_date = input(\"What date would you like to end with? \")\n",
    "\n",
    "temperature_stats = calc_temps(start_date, end_date)"
   ]
  },
  {
   "cell_type": "code",
   "execution_count": 40,
   "id": "lightweight-currency",
   "metadata": {},
   "outputs": [],
   "source": [
    "# Convert tuple to a list\n",
    "temp_stats = list(np.ravel(temperature_stats))\n",
    "\n",
    "# Create variables for the values\n",
    "average_temp = temp_stats[1]\n",
    "min_temp = temp_stats[0]\n",
    "max_temp = temp_stats[2]"
   ]
  },
  {
   "cell_type": "code",
   "execution_count": 41,
   "id": "reported-editing",
   "metadata": {},
   "outputs": [
    {
     "name": "stdout",
     "output_type": "stream",
     "text": [
      "Temperature Statistics for 2016-10-08 to 2016-11-09\n",
      "Minimum Temperature: 63.0\n",
      "Maximum Temperature: 82.0\n",
      "Average Temperature: 76.21634615384616\n"
     ]
    }
   ],
   "source": [
    "# Print out results\n",
    "print(f\"Temperature Statistics for {start_date} to {end_date}\")\n",
    "print(f\"Minimum Temperature: {min_temp}\")\n",
    "print(f\"Maximum Temperature: {max_temp}\")\n",
    "print(f\"Average Temperature: {average_temp}\")"
   ]
  },
  {
   "cell_type": "code",
   "execution_count": 70,
   "id": "least-chemical",
   "metadata": {},
   "outputs": [
    {
     "data": {
      "image/png": "[encoded data removed]",
      "text/plain": [
       "<Figure size 288x360 with 1 Axes>"
      ]
     },
     "metadata": {},
     "output_type": "display_data"
    }
   ],
   "source": [
    "# Plot the average temperature\n",
    "plt.figure(figsize=(4,5))\n",
    "plt.bar(1,average_temp, width=0.2, align=\"center\", yerr=(max_temp-min_temp))\n",
    "plt.xlim(0.5,1.5)\n",
    "plt.ylim(0,100)\n",
    "plt.title(\"Trip Avg Temperature\")\n",
    "plt.ylabel(\"Temperature (F)\")\n",
    "plt.show()"
   ]
  },
  {
   "cell_type": "code",
   "execution_count": 74,
   "id": "conservative-population",
   "metadata": {},
   "outputs": [],
   "source": [
    "def calc_rainfall(start_date, end_date):\n",
    "    \"\"\"Precipitation and Station details for a list of dates.\n",
    "    \n",
    "    Args:\n",
    "        start_date (string): A date string in the format %Y-%m-%d\n",
    "        end_date (string): A date string in the format %Y-%m-%d\n",
    "        \n",
    "    Returns:\n",
    "        AVG Precipitation, Station, Station Name, Latitude, Longitude, Elevation\n",
    "    \"\"\"\n",
    "    \n",
    "    return session.query(func.avg(Measurement.prcp), Station.station, Station.name, Station.latitude, Station.longitude, Station.elevation).\\\n",
    "        filter(Measurement.date >= start_date).filter(Station.station == Measurement.station).\\\n",
    "        filter(Measurement.date <= end_date).order_by(func.avg(Measurement.prcp).desc()).group_by(Station.station).all()"
   ]
  },
  {
   "cell_type": "code",
   "execution_count": 93,
   "id": "structural-calcium",
   "metadata": {},
   "outputs": [
    {
     "data": {
      "text/plain": [
       "[(0.9448387096774191, 'USC00516128', 'MANOA LYON ARBO 785.2, HI US', 21.3331, -157.8025, 152.4),\n",
       " (0.26193548387096766, 'USC00519281', 'WAIHEE 837.5, HI US', 21.45167, -157.84888999999998, 32.9),\n",
       " (0.15041666666666664, 'USC00514830', 'KUALOA RANCH HEADQUARTERS 886.9, HI US', 21.5213, -157.8374, 7.0),\n",
       " (0.1170967741935484, 'USC00513117', 'KANEOHE 838.1, HI US', 21.4234, -157.8015, 14.6),\n",
       " (0.10999999999999996, 'USC00519523', 'WAIMANALO EXPERIMENTAL FARM, HI US', 21.33556, -157.71139, 19.5),\n",
       " (0.06612903225806452, 'USC00519397', 'WAIKIKI 717.2, HI US', 21.2716, -157.8168, 3.0),\n",
       " (0.02428571428571429, 'USC00517948', 'PEARL CITY, HI US', 21.3934, -157.9751, 11.9)]"
      ]
     },
     "execution_count": 93,
     "metadata": {},
     "output_type": "execute_result"
    }
   ],
   "source": [
    "rainfall = (calc_rainfall(\"2016-09-08\", \"2016-10-08\"))\n",
    "rainfall"
   ]
  },
  {
   "cell_type": "code",
   "execution_count": 102,
   "id": "according-cotton",
   "metadata": {},
   "outputs": [],
   "source": [
    "# Function provided from starter notebook\n",
    "# Use this function to calculate the daily normals \n",
    "# (i.e. the averages for tmin, tmax, and tavg for all historic data matching a specific month and day)\n",
    "\n",
    "def daily_normals(date):\n",
    "    \"\"\"Daily Normals.\n",
    "    \n",
    "    Args:\n",
    "        date (str): A date string in the format '%m-%d'\n",
    "        \n",
    "    Returns:\n",
    "        A list of tuples containing the daily normals, tmin, tavg, and tmax\n",
    "    \n",
    "    \"\"\"\n",
    "    \n",
    "    sel = [func.min(Measurement.tobs), func.avg(Measurement.tobs), func.max(Measurement.tobs)]\n",
    "    return session.query(*sel).filter(func.strftime(\"%m-%d\", Measurement.date) == date).all()\n",
    "\n",
    "# For example\n",
    "normal_temp = daily_normals(\"01-01\")"
   ]
  },
  {
   "cell_type": "code",
   "execution_count": 105,
   "id": "serial-reason",
   "metadata": {},
   "outputs": [
    {
     "name": "stdout",
     "output_type": "stream",
     "text": [
      "Let's find daily normal temperature statistics for a month and date!\n",
      "Input dates in the format mm-dd\n",
      "What date would you like to look at? 12-01\n"
     ]
    }
   ],
   "source": [
    "# Input from user\n",
    "print(\"Let's find daily normal temperature statistics for a month and date!\")\n",
    "print(\"Input dates in the format mm-dd\")\n",
    "date = input(\"What date would you like to look at? \")\n",
    "\n",
    "normal_temp = daily_normals(date)"
   ]
  },
  {
   "cell_type": "code",
   "execution_count": 133,
   "id": "imposed-contest",
   "metadata": {},
   "outputs": [],
   "source": [
    "# calculate the daily normals for your trip\n",
    "# push each tuple of calculations into a list called `normals`\n",
    "daily_normals_temp = list(np.ravel(normal_temp))\n",
    "\n",
    "# Create variables for the values\n",
    "average_temp = normals[1]\n",
    "min_temp = normals[0]\n",
    "max_temp = normals[2]\n",
    "\n",
    "# Set the start and end date of the trip\n",
    "start_date = '2017-08-01'\n",
    "end_date = '2017-08-07'\n"
   ]
  },
  {
   "cell_type": "code",
   "execution_count": 134,
   "id": "fancy-enterprise",
   "metadata": {},
   "outputs": [
    {
     "data": {
      "text/plain": [
       "['08-01', '08-02', '08-03', '08-04', '08-05', '08-06', '08-07']"
      ]
     },
     "execution_count": 134,
     "metadata": {},
     "output_type": "execute_result"
    }
   ],
   "source": [
    "# Use the start and end date to create a range of dates\n",
    "start = dt.datetime.strptime(start_date, \"%Y-%m-%d\")\n",
    "end = dt.datetime.strptime(end_date, \"%Y-%m-%d\")\n",
    "\n",
    "# Find the number of dates in the range\n",
    "num_of_dates = (end - start).days + 1\n",
    "\n",
    "# Create a list of the dates range\n",
    "dates_range = []\n",
    "\n",
    "# Loop through and append each date to the list\n",
    "# Strip off the year and save a list of strings in the format %m-%d\n",
    "for x in range(num_of_dates):\n",
    "    dates = start + dt.timedelta(days=x)\n",
    "    dates_month_day = dt.datetime.strftime(dates, \"%m-%d\")\n",
    "    dates_range.append(dates_month_day)\n",
    "    \n",
    "dates_range"
   ]
  },
  {
   "cell_type": "code",
   "execution_count": 138,
   "id": "intelligent-eligibility",
   "metadata": {},
   "outputs": [
    {
     "data": {
      "text/plain": [
       "[[(67.0, 75.54, 83.0)],\n",
       " [(68.0, 75.60377358490567, 84.0)],\n",
       " [(70.0, 76.61111111111111, 85.0)],\n",
       " [(69.0, 76.71153846153847, 84.0)],\n",
       " [(69.0, 76.14814814814815, 82.0)],\n",
       " [(67.0, 76.25, 83.0)],\n",
       " [(71.0, 77.15686274509804, 83.0)]]"
      ]
     },
     "execution_count": 138,
     "metadata": {},
     "output_type": "execute_result"
    }
   ],
   "source": [
    "# Use the `daily_normals` function to calculate the normals for each date string \n",
    "# and append the results to a list called `normals`.\n",
    "normals = []\n",
    "\n",
    "for x in dates_range:\n",
    "    normal_temp = daily_normals(x)\n",
    "    normals.append(normal_temp)\n",
    "\n",
    "normals"
   ]
  },
  {
   "cell_type": "code",
   "execution_count": 107,
   "id": "elect-affect",
   "metadata": {},
   "outputs": [
    {
     "name": "stdout",
     "output_type": "stream",
     "text": [
      "Temperature Statistics for 12-01\n",
      "Minimum Temperature: 65.0\n",
      "Maximum Temperature: 78.0\n",
      "Average Temperature: 71.91666666666667\n"
     ]
    }
   ],
   "source": [
    "# Print out results\n",
    "print(f\"Temperature Statistics for {date}\")\n",
    "print(f\"Minimum Temperature: {min_temp}\")\n",
    "print(f\"Maximum Temperature: {max_temp}\")\n",
    "print(f\"Average Temperature: {average_temp}\")"
   ]
  },
  {
   "cell_type": "code",
   "execution_count": null,
   "id": "liquid-treasurer",
   "metadata": {},
   "outputs": [],
   "source": [
    "\n",
    "\n",
    "\n",
    "\n",
    "\n",
    "\n",
    "\n",
    "\n",
    "\n",
    "\n",
    "\n"
   ]
  },
  {
   "cell_type": "code",
   "execution_count": 83,
   "id": "needed-gasoline",
   "metadata": {},
   "outputs": [],
   "source": [
    "# Close the session \n",
    "session.close()"
   ]
  },
  {
   "cell_type": "code",
   "execution_count": null,
   "id": "joint-psychology",
   "metadata": {},
   "outputs": [],
   "source": []
  }
 ],
 "metadata": {
  "kernelspec": {
   "display_name": "Python [conda env:PythonData] *",
   "language": "python",
   "name": "conda-env-PythonData-py"
  },
  "language_info": {
   "codemirror_mode": {
    "name": "ipython",
    "version": 3
   },
   "file_extension": ".py",
   "mimetype": "text/x-python",
   "name": "python",
   "nbconvert_exporter": "python",
   "pygments_lexer": "ipython3",
   "version": "3.6.10"
  }
 },
 "nbformat": 4,
 "nbformat_minor": 5
}
