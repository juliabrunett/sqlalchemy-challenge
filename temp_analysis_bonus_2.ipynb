{
 "cells": [
  {
   "cell_type": "markdown",
   "id": "handed-tissue",
   "metadata": {},
   "source": [
    "# Temperature Analysis 2: Bonus"
   ]
  },
  {
   "cell_type": "code",
   "execution_count": 1,
   "id": "limiting-explanation",
   "metadata": {},
   "outputs": [],
   "source": [
    "# Import dependencies for matplotlib\n",
    "%matplotlib inline\n",
    "from matplotlib import style\n",
    "style.use('fivethirtyeight')\n",
    "import matplotlib.pyplot as plt"
   ]
  },
  {
   "cell_type": "code",
   "execution_count": 2,
   "id": "undefined-substitute",
   "metadata": {},
   "outputs": [],
   "source": [
    "# Import other dependencies\n",
    "import numpy as np\n",
    "import pandas as pd\n",
    "import datetime as dt"
   ]
  },
  {
   "cell_type": "code",
   "execution_count": 3,
   "id": "optional-demand",
   "metadata": {},
   "outputs": [],
   "source": [
    "# Import SQL Alchemy dependencies\n",
    "import sqlalchemy\n",
    "from sqlalchemy.ext.automap import automap_base\n",
    "from sqlalchemy.orm import Session\n",
    "from sqlalchemy import create_engine, func"
   ]
  },
  {
   "cell_type": "code",
   "execution_count": 4,
   "id": "corrected-seeking",
   "metadata": {},
   "outputs": [],
   "source": [
    "# Create the engine to the Hawaii SQLite Database\n",
    "engine = create_engine(\"sqlite:///Resources/hawaii.sqlite\")"
   ]
  },
  {
   "cell_type": "code",
   "execution_count": 5,
   "id": "initial-creek",
   "metadata": {},
   "outputs": [],
   "source": [
    "# Create a base and prepare the base\n",
    "Base = automap_base()\n",
    "Base.prepare(engine, reflect = True)"
   ]
  },
  {
   "cell_type": "code",
   "execution_count": 6,
   "id": "coated-anthropology",
   "metadata": {},
   "outputs": [
    {
     "data": {
      "text/plain": [
       "['measurement', 'station']"
      ]
     },
     "execution_count": 6,
     "metadata": {},
     "output_type": "execute_result"
    }
   ],
   "source": [
    "# See the classes in the database\n",
    "Base.classes.keys()"
   ]
  },
  {
   "cell_type": "code",
   "execution_count": 7,
   "id": "novel-possible",
   "metadata": {},
   "outputs": [],
   "source": [
    "# Save a reference to the tables\n",
    "Station = Base.classes.station\n",
    "Measurement = Base.classes.measurement"
   ]
  },
  {
   "cell_type": "code",
   "execution_count": 8,
   "id": "drawn-editor",
   "metadata": {},
   "outputs": [],
   "source": [
    "# Start a session\n",
    "session = Session(engine)"
   ]
  },
  {
   "cell_type": "code",
   "execution_count": 9,
   "id": "unnecessary-parks",
   "metadata": {},
   "outputs": [],
   "source": [
    "# Function from provided starter code:\n",
    "# This function called `calc_temps` will accept start date and end date in the format '%Y-%m-%d' \n",
    "# and return the minimum, maximum, and average temperatures for that range of dates\n",
    "def calc_temps(start_date, end_date):\n",
    "    \"\"\"TMIN, TAVG, and TMAX for a list of dates.\n",
    "    \n",
    "    Args:\n",
    "        start_date (string): A date string in the format %Y-%m-%d\n",
    "        end_date (string): A date string in the format %Y-%m-%d\n",
    "        \n",
    "    Returns:\n",
    "        TMIN, TAVG, and TMAX\n",
    "    \"\"\"\n",
    "    \n",
    "    return session.query(func.min(Measurement.tobs), func.avg(Measurement.tobs), func.max(Measurement.tobs)).\\\n",
    "        filter(Measurement.date >= start_date).filter(Measurement.date <= end_date).all()"
   ]
  },
  {
   "cell_type": "markdown",
   "id": "corrected-territory",
   "metadata": {},
   "source": [
    "## Temperature Statistics:"
   ]
  },
  {
   "cell_type": "markdown",
   "id": "secret-honduras",
   "metadata": {},
   "source": [
    "### Example:"
   ]
  },
  {
   "cell_type": "code",
   "execution_count": 10,
   "id": "hydraulic-layout",
   "metadata": {},
   "outputs": [
    {
     "name": "stdout",
     "output_type": "stream",
     "text": [
      "[(72.0, 79.25, 83.0)]\n"
     ]
    }
   ],
   "source": [
    "start_date = '2017-08-01'\n",
    "end_date = '2017-08-07'\n",
    "\n",
    "# Find temperature between two dates\n",
    "temperature_stats = calc_temps(start_date, end_date)\n",
    "print(temperature_stats)"
   ]
  },
  {
   "cell_type": "markdown",
   "id": "assumed-sheffield",
   "metadata": {},
   "source": [
    "### User Input Version:"
   ]
  },
  {
   "cell_type": "raw",
   "id": "amateur-permission",
   "metadata": {},
   "source": [
    "# Input from user\n",
    "print(\"Let's find temperature statistics for a range of dates!\")\n",
    "print(\"Input dates in the format YYYY-mm-dd\")\n",
    "start_date = input(\"What date would you like to start with? \")\n",
    "end_date = input(\"What date would you like to end with? \")\n",
    "\n",
    "temperature_stats = calc_temps(start_date, end_date)"
   ]
  },
  {
   "cell_type": "code",
   "execution_count": 11,
   "id": "ongoing-indian",
   "metadata": {},
   "outputs": [],
   "source": [
    "# Convert tuple to a list\n",
    "temp_stats = list(np.ravel(temperature_stats))\n",
    "\n",
    "# Create variables for the values\n",
    "average_temp = temp_stats[1]\n",
    "min_temp = temp_stats[0]\n",
    "max_temp = temp_stats[2]"
   ]
  },
  {
   "cell_type": "code",
   "execution_count": 12,
   "id": "sacred-hypothesis",
   "metadata": {},
   "outputs": [
    {
     "name": "stdout",
     "output_type": "stream",
     "text": [
      "Temperature Statistics for 2017-08-01 to 2017-08-07\n",
      "Minimum Temperature: 72.0\n",
      "Maximum Temperature: 83.0\n",
      "Average Temperature: 79.25\n"
     ]
    }
   ],
   "source": [
    "# Print out results\n",
    "print(f\"Temperature Statistics for {start_date} to {end_date}\")\n",
    "print(f\"Minimum Temperature: {min_temp}\")\n",
    "print(f\"Maximum Temperature: {max_temp}\")\n",
    "print(f\"Average Temperature: {average_temp}\")"
   ]
  },
  {
   "cell_type": "code",
   "execution_count": 28,
   "id": "crazy-citation",
   "metadata": {},
   "outputs": [
    {
     "data": {
      "image/png": "[encoded data removed]",
      "text/plain": [
       "<Figure size 288x360 with 1 Axes>"
      ]
     },
     "metadata": {},
     "output_type": "display_data"
    }
   ],
   "source": [
    "# Plot the average temperature\n",
    "plt.figure(figsize=(4,5))\n",
    "plt.bar(1,average_temp, width=0.2, align=\"center\", yerr=(max_temp-min_temp), color=\"coral\")\n",
    "plt.xlim(0.5,1.5)\n",
    "plt.ylim(0,100)\n",
    "plt.title(\"Trip Avg Temperature\")\n",
    "plt.ylabel(\"Temperature (F)\")\n",
    "plt.savefig(\"Images/bonus_2_trip_avg_temp.png\", bbox_inches=\"tight\")\n",
    "plt.show()"
   ]
  },
  {
   "cell_type": "markdown",
   "id": "classified-begin",
   "metadata": {},
   "source": [
    "## Daily Rainfall Average:"
   ]
  },
  {
   "cell_type": "code",
   "execution_count": 14,
   "id": "growing-legend",
   "metadata": {},
   "outputs": [],
   "source": [
    "# Create a function that will find the details of the rainfall at each station\n",
    "def calc_rainfall(start_date, end_date):\n",
    "    \"\"\"Precipitation and Station details for a list of dates.\n",
    "    \n",
    "    Args:\n",
    "        start_date (string): A date string in the format %Y-%m-%d\n",
    "        end_date (string): A date string in the format %Y-%m-%d\n",
    "        \n",
    "    Returns:\n",
    "        AVG Precipitation, Station, Station Name, Latitude, Longitude, Elevation\n",
    "    \"\"\"\n",
    "    \n",
    "    return session.query(func.avg(Measurement.prcp), Station.station, Station.name, Station.latitude, Station.longitude, Station.elevation).\\\n",
    "        filter(Measurement.date >= start_date).filter(Station.station == Measurement.station).\\\n",
    "        filter(Measurement.date <= end_date).order_by(func.avg(Measurement.prcp).desc()).group_by(Station.station).all()"
   ]
  },
  {
   "cell_type": "code",
   "execution_count": 15,
   "id": "graduate-serbia",
   "metadata": {},
   "outputs": [
    {
     "data": {
      "text/plain": [
       "[(0.12, 'USC00516128', 'MANOA LYON ARBO 785.2, HI US', 21.3331, -157.8025, 152.4),\n",
       " (0.03666666666666667, 'USC00514830', 'KUALOA RANCH HEADQUARTERS 886.9, HI US', 21.5213, -157.8374, 7.0),\n",
       " (0.02, 'USC00519281', 'WAIHEE 837.5, HI US', 21.45167, -157.84888999999998, 32.9),\n",
       " (0.005714285714285714, 'USC00519397', 'WAIKIKI 717.2, HI US', 21.2716, -157.8168, 3.0),\n",
       " (0.0, 'USC00519523', 'WAIMANALO EXPERIMENTAL FARM, HI US', 21.33556, -157.71139, 19.5)]"
      ]
     },
     "execution_count": 15,
     "metadata": {},
     "output_type": "execute_result"
    }
   ],
   "source": [
    "start_date = \"2017-08-01\"\n",
    "end_date = \"2017-08-07\"\n",
    "\n",
    "# Find the rainfall for a range of dates\n",
    "rainfall = (calc_rainfall(start_date, end_date))\n",
    "rainfall"
   ]
  },
  {
   "cell_type": "code",
   "execution_count": 16,
   "id": "confidential-excerpt",
   "metadata": {},
   "outputs": [
    {
     "data": {
      "text/html": [
       "<div>\n",
       "<style scoped>\n",
       "    .dataframe tbody tr th:only-of-type {\n",
       "        vertical-align: middle;\n",
       "    }\n",
       "\n",
       "    .dataframe tbody tr th {\n",
       "        vertical-align: top;\n",
       "    }\n",
       "\n",
       "    .dataframe thead th {\n",
       "        text-align: right;\n",
       "    }\n",
       "</style>\n",
       "<table border=\"1\" class=\"dataframe\">\n",
       "  <thead>\n",
       "    <tr style=\"text-align: right;\">\n",
       "      <th></th>\n",
       "      <th>avg prcp</th>\n",
       "      <th>station</th>\n",
       "      <th>name</th>\n",
       "      <th>lat</th>\n",
       "      <th>lng</th>\n",
       "      <th>elevation</th>\n",
       "    </tr>\n",
       "  </thead>\n",
       "  <tbody>\n",
       "    <tr>\n",
       "      <th>0</th>\n",
       "      <td>0.120000</td>\n",
       "      <td>USC00516128</td>\n",
       "      <td>MANOA LYON ARBO 785.2, HI US</td>\n",
       "      <td>21.33310</td>\n",
       "      <td>-157.80250</td>\n",
       "      <td>152.4</td>\n",
       "    </tr>\n",
       "    <tr>\n",
       "      <th>1</th>\n",
       "      <td>0.036667</td>\n",
       "      <td>USC00514830</td>\n",
       "      <td>KUALOA RANCH HEADQUARTERS 886.9, HI US</td>\n",
       "      <td>21.52130</td>\n",
       "      <td>-157.83740</td>\n",
       "      <td>7.0</td>\n",
       "    </tr>\n",
       "    <tr>\n",
       "      <th>2</th>\n",
       "      <td>0.020000</td>\n",
       "      <td>USC00519281</td>\n",
       "      <td>WAIHEE 837.5, HI US</td>\n",
       "      <td>21.45167</td>\n",
       "      <td>-157.84889</td>\n",
       "      <td>32.9</td>\n",
       "    </tr>\n",
       "    <tr>\n",
       "      <th>3</th>\n",
       "      <td>0.005714</td>\n",
       "      <td>USC00519397</td>\n",
       "      <td>WAIKIKI 717.2, HI US</td>\n",
       "      <td>21.27160</td>\n",
       "      <td>-157.81680</td>\n",
       "      <td>3.0</td>\n",
       "    </tr>\n",
       "    <tr>\n",
       "      <th>4</th>\n",
       "      <td>0.000000</td>\n",
       "      <td>USC00519523</td>\n",
       "      <td>WAIMANALO EXPERIMENTAL FARM, HI US</td>\n",
       "      <td>21.33556</td>\n",
       "      <td>-157.71139</td>\n",
       "      <td>19.5</td>\n",
       "    </tr>\n",
       "  </tbody>\n",
       "</table>\n",
       "</div>"
      ],
      "text/plain": [
       "   avg prcp      station                                    name       lat  \\\n",
       "0  0.120000  USC00516128            MANOA LYON ARBO 785.2, HI US  21.33310   \n",
       "1  0.036667  USC00514830  KUALOA RANCH HEADQUARTERS 886.9, HI US  21.52130   \n",
       "2  0.020000  USC00519281                     WAIHEE 837.5, HI US  21.45167   \n",
       "3  0.005714  USC00519397                    WAIKIKI 717.2, HI US  21.27160   \n",
       "4  0.000000  USC00519523      WAIMANALO EXPERIMENTAL FARM, HI US  21.33556   \n",
       "\n",
       "         lng  elevation  \n",
       "0 -157.80250      152.4  \n",
       "1 -157.83740        7.0  \n",
       "2 -157.84889       32.9  \n",
       "3 -157.81680        3.0  \n",
       "4 -157.71139       19.5  "
      ]
     },
     "execution_count": 16,
     "metadata": {},
     "output_type": "execute_result"
    }
   ],
   "source": [
    "# Create a dataframe out of the queried data\n",
    "rain_df = pd.DataFrame(rainfall, columns=[\"avg prcp\", \"station\", \"name\", \"lat\", \"lng\", \"elevation\"])\n",
    "rain_df"
   ]
  },
  {
   "cell_type": "code",
   "execution_count": 27,
   "id": "specific-isolation",
   "metadata": {},
   "outputs": [
    {
     "data": {
      "image/png": "[encoded data removed]",
      "text/plain": [
       "<Figure size 504x288 with 1 Axes>"
      ]
     },
     "metadata": {},
     "output_type": "display_data"
    }
   ],
   "source": [
    "# Create a list for station ids\n",
    "list_of_stations = []\n",
    "\n",
    "# Create a list for avg precipitation\n",
    "avg_prcp = rain_df[\"avg prcp\"]\n",
    "\n",
    "# Append to the list of station ids\n",
    "for x in rain_df[\"station\"]:\n",
    "    list_of_stations.append(x)\n",
    "\n",
    "# Create a bar chart to show the difference in avg precipitation between each station\n",
    "plt.figure(figsize=(7,4))\n",
    "plt.bar(list_of_stations, avg_prcp)\n",
    "plt.title(\"Avg Precipitation by Station ID\")\n",
    "plt.xlabel(\"Station\")\n",
    "plt.ylabel(\"Avg Precipitation (Inches)\")\n",
    "plt.xticks(rotation=90)\n",
    "plt.savefig(\"Images/bonus_2_avg_prcp.png\", bbox_inches=\"tight\")\n",
    "plt.show()"
   ]
  },
  {
   "cell_type": "markdown",
   "id": "occupational-chase",
   "metadata": {},
   "source": [
    "## Daily Temperature Normals:"
   ]
  },
  {
   "cell_type": "code",
   "execution_count": 18,
   "id": "formal-teens",
   "metadata": {},
   "outputs": [],
   "source": [
    "# Function provided from starter notebook\n",
    "# Use this function to calculate the daily normals \n",
    "# (i.e. the averages for tmin, tmax, and tavg for all historic data matching a specific month and day)\n",
    "\n",
    "def daily_normals(date):\n",
    "    \"\"\"Daily Normals.\n",
    "    \n",
    "    Args:\n",
    "        date (str): A date string in the format '%m-%d'\n",
    "        \n",
    "    Returns:\n",
    "        A list of tuples containing the daily normals, tmin, tavg, and tmax\n",
    "    \n",
    "    \"\"\"\n",
    "    \n",
    "    sel = [func.min(Measurement.tobs), func.avg(Measurement.tobs), func.max(Measurement.tobs)]\n",
    "    return session.query(*sel).filter(func.strftime(\"%m-%d\", Measurement.date) == date).all()\n",
    "\n",
    "# For example\n",
    "normal_temp = daily_normals(\"01-01\")"
   ]
  },
  {
   "cell_type": "markdown",
   "id": "employed-macedonia",
   "metadata": {},
   "source": [
    "### User Input Version:"
   ]
  },
  {
   "cell_type": "raw",
   "id": "simplified-arrow",
   "metadata": {},
   "source": [
    "# Input from user\n",
    "print(\"Let's find daily normal temperature statistics for a month and date!\")\n",
    "print(\"Input dates in the format mm-dd\")\n",
    "date = input(\"What date would you like to look at? \")\n",
    "\n",
    "normal_temp = daily_normals(date)"
   ]
  },
  {
   "cell_type": "raw",
   "id": "rising-pointer",
   "metadata": {},
   "source": [
    "# calculate the daily normals for your trip\n",
    "# push each tuple of calculations into a list called `normals`\n",
    "daily_normals_temp = list(np.ravel(normal_temp))\n",
    "\n",
    "# Create variables for the values\n",
    "average_temp = normals[1]\n",
    "min_temp = normals[0]\n",
    "max_temp = normals[2]"
   ]
  },
  {
   "cell_type": "raw",
   "id": "assumed-witness",
   "metadata": {},
   "source": [
    "# Print out results\n",
    "print(f\"Temperature Statistics for {date}\")\n",
    "print(f\"Minimum Temperature: {min_temp}\")\n",
    "print(f\"Maximum Temperature: {max_temp}\")\n",
    "print(f\"Average Temperature: {average_temp}\")"
   ]
  },
  {
   "cell_type": "code",
   "execution_count": 19,
   "id": "modified-rings",
   "metadata": {},
   "outputs": [],
   "source": [
    "# Set the start and end date of the trip\n",
    "start_date = '2017-08-01'\n",
    "end_date = '2017-08-07'"
   ]
  },
  {
   "cell_type": "code",
   "execution_count": 20,
   "id": "first-maine",
   "metadata": {},
   "outputs": [
    {
     "data": {
      "text/plain": [
       "['08-01', '08-02', '08-03', '08-04', '08-05', '08-06', '08-07']"
      ]
     },
     "execution_count": 20,
     "metadata": {},
     "output_type": "execute_result"
    }
   ],
   "source": [
    "# Use the start and end date to create a range of dates\n",
    "start = dt.datetime.strptime(start_date, \"%Y-%m-%d\")\n",
    "end = dt.datetime.strptime(end_date, \"%Y-%m-%d\")\n",
    "\n",
    "# Find the number of dates in the range\n",
    "num_of_dates = (end - start).days + 1\n",
    "\n",
    "# Create a list of the dates range\n",
    "dates_range = []\n",
    "\n",
    "# Loop through and append each date to the list\n",
    "# Strip off the year and save a list of strings in the format %m-%d\n",
    "for x in range(num_of_dates):\n",
    "    dates = start + dt.timedelta(days=x)\n",
    "    dates_month_day = dt.datetime.strftime(dates, \"%m-%d\")\n",
    "    dates_range.append(dates_month_day)\n",
    "    \n",
    "dates_range"
   ]
  },
  {
   "cell_type": "code",
   "execution_count": 21,
   "id": "several-classic",
   "metadata": {},
   "outputs": [
    {
     "data": {
      "text/plain": [
       "[[67.0, 75.54, 83.0],\n",
       " [68.0, 75.60377358490567, 84.0],\n",
       " [70.0, 76.61111111111111, 85.0],\n",
       " [69.0, 76.71153846153847, 84.0],\n",
       " [69.0, 76.14814814814815, 82.0],\n",
       " [67.0, 76.25, 83.0],\n",
       " [71.0, 77.15686274509804, 83.0]]"
      ]
     },
     "execution_count": 21,
     "metadata": {},
     "output_type": "execute_result"
    }
   ],
   "source": [
    "# Use the `daily_normals` function to calculate the normals for each date string \n",
    "# and append the results to a list called `normals`.\n",
    "normals = []\n",
    "\n",
    "# Loop through and calculate the data, and append it to a list without the tuple\n",
    "for x in dates_range:\n",
    "    normal_temp = daily_normals(x)\n",
    "    normals.append(list(np.ravel(normal_temp)))\n",
    "\n",
    "normals"
   ]
  },
  {
   "cell_type": "code",
   "execution_count": 22,
   "id": "novel-interest",
   "metadata": {},
   "outputs": [
    {
     "data": {
      "text/html": [
       "<div>\n",
       "<style scoped>\n",
       "    .dataframe tbody tr th:only-of-type {\n",
       "        vertical-align: middle;\n",
       "    }\n",
       "\n",
       "    .dataframe tbody tr th {\n",
       "        vertical-align: top;\n",
       "    }\n",
       "\n",
       "    .dataframe thead th {\n",
       "        text-align: right;\n",
       "    }\n",
       "</style>\n",
       "<table border=\"1\" class=\"dataframe\">\n",
       "  <thead>\n",
       "    <tr style=\"text-align: right;\">\n",
       "      <th></th>\n",
       "      <th>min</th>\n",
       "      <th>avg</th>\n",
       "      <th>max</th>\n",
       "    </tr>\n",
       "    <tr>\n",
       "      <th>date</th>\n",
       "      <th></th>\n",
       "      <th></th>\n",
       "      <th></th>\n",
       "    </tr>\n",
       "  </thead>\n",
       "  <tbody>\n",
       "    <tr>\n",
       "      <th>08-01</th>\n",
       "      <td>67.0</td>\n",
       "      <td>75.540000</td>\n",
       "      <td>83.0</td>\n",
       "    </tr>\n",
       "    <tr>\n",
       "      <th>08-02</th>\n",
       "      <td>68.0</td>\n",
       "      <td>75.603774</td>\n",
       "      <td>84.0</td>\n",
       "    </tr>\n",
       "    <tr>\n",
       "      <th>08-03</th>\n",
       "      <td>70.0</td>\n",
       "      <td>76.611111</td>\n",
       "      <td>85.0</td>\n",
       "    </tr>\n",
       "    <tr>\n",
       "      <th>08-04</th>\n",
       "      <td>69.0</td>\n",
       "      <td>76.711538</td>\n",
       "      <td>84.0</td>\n",
       "    </tr>\n",
       "    <tr>\n",
       "      <th>08-05</th>\n",
       "      <td>69.0</td>\n",
       "      <td>76.148148</td>\n",
       "      <td>82.0</td>\n",
       "    </tr>\n",
       "    <tr>\n",
       "      <th>08-06</th>\n",
       "      <td>67.0</td>\n",
       "      <td>76.250000</td>\n",
       "      <td>83.0</td>\n",
       "    </tr>\n",
       "    <tr>\n",
       "      <th>08-07</th>\n",
       "      <td>71.0</td>\n",
       "      <td>77.156863</td>\n",
       "      <td>83.0</td>\n",
       "    </tr>\n",
       "  </tbody>\n",
       "</table>\n",
       "</div>"
      ],
      "text/plain": [
       "        min        avg   max\n",
       "date                        \n",
       "08-01  67.0  75.540000  83.0\n",
       "08-02  68.0  75.603774  84.0\n",
       "08-03  70.0  76.611111  85.0\n",
       "08-04  69.0  76.711538  84.0\n",
       "08-05  69.0  76.148148  82.0\n",
       "08-06  67.0  76.250000  83.0\n",
       "08-07  71.0  77.156863  83.0"
      ]
     },
     "execution_count": 22,
     "metadata": {},
     "output_type": "execute_result"
    }
   ],
   "source": [
    "# Create a dataframe of temperature averages\n",
    "df = pd.DataFrame(normals, columns=[\"min\", \"avg\", \"max\"])\n",
    "df_date = pd.DataFrame(dates_range, columns=[\"date\"])\n",
    "df_merged = pd.concat([df, df_date], axis=1)\n",
    "\n",
    "df_merged.set_index(\"date\")"
   ]
  },
  {
   "cell_type": "code",
   "execution_count": 23,
   "id": "expensive-professor",
   "metadata": {},
   "outputs": [],
   "source": [
    "# Create a list for the xtick positions\n",
    "x = [x for x in range(num_of_dates)]"
   ]
  },
  {
   "cell_type": "code",
   "execution_count": 24,
   "id": "spiritual-oklahoma",
   "metadata": {},
   "outputs": [
    {
     "data": {
      "image/png": "[encoded data removed]",
      "text/plain": [
       "<Figure size 432x288 with 1 Axes>"
      ]
     },
     "metadata": {},
     "output_type": "display_data"
    }
   ],
   "source": [
    "# Create an area plot to show the daily temperatures\n",
    "df_merged.plot.area(stacked=False)\n",
    "plt.xticks(x, dates_range, rotation=\"vertical\")\n",
    "plt.title(\"Daily Temperature\")\n",
    "plt.xlabel(\"Dates\")\n",
    "plt.ylabel(\"Temperature\")\n",
    "plt.savefig(\"Images/bonus_2_daily_temp.png\", bbox_inches=\"tight\")\n",
    "plt.show()"
   ]
  },
  {
   "cell_type": "code",
   "execution_count": 25,
   "id": "convenient-former",
   "metadata": {},
   "outputs": [],
   "source": [
    "# Close the session \n",
    "session.close()"
   ]
  }
 ],
 "metadata": {
  "kernelspec": {
   "display_name": "Python [conda env:PythonData] *",
   "language": "python",
   "name": "conda-env-PythonData-py"
  },
  "language_info": {
   "codemirror_mode": {
    "name": "ipython",
    "version": 3
   },
   "file_extension": ".py",
   "mimetype": "text/x-python",
   "name": "python",
   "nbconvert_exporter": "python",
   "pygments_lexer": "ipython3",
   "version": "3.6.10"
  }
 },
 "nbformat": 4,
 "nbformat_minor": 5
}
