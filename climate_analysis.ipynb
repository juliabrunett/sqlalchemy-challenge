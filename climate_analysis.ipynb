{
 "cells": [
  {
   "cell_type": "code",
   "execution_count": 1,
   "id": "checked-candy",
   "metadata": {},
   "outputs": [],
   "source": [
    "# Import SQL alchemy dependencies\n",
    "from sqlalchemy import create_engine\n",
    "from sqlalchemy.ext.automap import automap_base\n",
    "from sqlalchemy.orm import Session\n",
    "from sqlalchemy import func, inspect\n",
    "\n",
    "# Import other dependencies\n",
    "import pandas as pd\n",
    "import numpy as np\n",
    "import datetime as dt\n",
    "\n",
    "# Import dependencies for graphs\n",
    "import matplotlib.pyplot as plt\n",
    "%matplotlib inline\n",
    "from matplotlib import style\n",
    "style.use('fivethirtyeight')"
   ]
  },
  {
   "cell_type": "markdown",
   "id": "coordinate-nelson",
   "metadata": {},
   "source": [
    "### Reflect Tables into SQLAlchemy ORM"
   ]
  },
  {
   "cell_type": "code",
   "execution_count": 2,
   "id": "toxic-warrior",
   "metadata": {},
   "outputs": [],
   "source": [
    "# Create engine to the hawaii database\n",
    "engine = create_engine(\"sqlite:///Resources/hawaii.sqlite\")"
   ]
  },
  {
   "cell_type": "code",
   "execution_count": 3,
   "id": "dangerous-judge",
   "metadata": {},
   "outputs": [],
   "source": [
    "# Create automap base\n",
    "Base = automap_base()\n",
    "\n",
    "# Prepare base to reflect tables\n",
    "Base.prepare(engine, reflect=True)"
   ]
  },
  {
   "cell_type": "code",
   "execution_count": 4,
   "id": "macro-thumbnail",
   "metadata": {},
   "outputs": [
    {
     "data": {
      "text/plain": [
       "['measurement', 'station']"
      ]
     },
     "execution_count": 4,
     "metadata": {},
     "output_type": "execute_result"
    }
   ],
   "source": [
    "# Print classes from base\n",
    "# These are the tables in the database\n",
    "Base.classes.keys()"
   ]
  },
  {
   "cell_type": "code",
   "execution_count": 5,
   "id": "anonymous-ambassador",
   "metadata": {},
   "outputs": [],
   "source": [
    "# Save a reference to the classes (tables)\n",
    "Station = Base.classes.station\n",
    "Measurement = Base.classes.measurement"
   ]
  },
  {
   "cell_type": "code",
   "execution_count": 6,
   "id": "matched-saskatchewan",
   "metadata": {},
   "outputs": [],
   "source": [
    "# Begin a session\n",
    "session = Session(engine)"
   ]
  },
  {
   "cell_type": "markdown",
   "id": "eight-entity",
   "metadata": {},
   "source": [
    "### Exploratory Precipitation Analysis"
   ]
  },
  {
   "cell_type": "code",
   "execution_count": 7,
   "id": "narrow-costume",
   "metadata": {},
   "outputs": [
    {
     "data": {
      "text/plain": [
       "['measurement', 'station']"
      ]
     },
     "execution_count": 7,
     "metadata": {},
     "output_type": "execute_result"
    }
   ],
   "source": [
    "# Use inspector to see the class/table names (same as keys above)\n",
    "inspector = inspect(engine)\n",
    "inspector.get_table_names()"
   ]
  },
  {
   "cell_type": "code",
   "execution_count": 8,
   "id": "weekly-hudson",
   "metadata": {},
   "outputs": [
    {
     "name": "stdout",
     "output_type": "stream",
     "text": [
      "id INTEGER\n",
      "station TEXT\n",
      "date TEXT\n",
      "prcp FLOAT\n",
      "tobs FLOAT\n"
     ]
    }
   ],
   "source": [
    "# Use inspector to see the column names for measurement\n",
    "columns_measurement = inspector.get_columns('measurement')\n",
    "\n",
    "# Print out column names to see the name and type\n",
    "for c in columns_measurement:\n",
    "    print(c[\"name\"], c[\"type\"])"
   ]
  },
  {
   "cell_type": "code",
   "execution_count": 9,
   "id": "common-thing",
   "metadata": {},
   "outputs": [
    {
     "data": {
      "text/plain": [
       "[(1, 'USC00519397', '2010-01-01', 0.08, 65.0),\n",
       " (2, 'USC00519397', '2010-01-02', 0.0, 63.0),\n",
       " (3, 'USC00519397', '2010-01-03', 0.0, 74.0),\n",
       " (4, 'USC00519397', '2010-01-04', 0.0, 76.0),\n",
       " (5, 'USC00519397', '2010-01-06', None, 73.0)]"
      ]
     },
     "execution_count": 9,
     "metadata": {},
     "output_type": "execute_result"
    }
   ],
   "source": [
    "# See the first five rows of data in measurement\n",
    "engine.execute(\"SELECT * FROM measurement LIMIT 5\").fetchall()"
   ]
  },
  {
   "cell_type": "code",
   "execution_count": 10,
   "id": "dental-sustainability",
   "metadata": {},
   "outputs": [
    {
     "data": {
      "text/plain": [
       "('2017-08-23',)"
      ]
     },
     "execution_count": 10,
     "metadata": {},
     "output_type": "execute_result"
    }
   ],
   "source": [
    "# Find the most recent date in measurement\n",
    "session.query(Measurement.date).order_by(Measurement.date.desc()).first()"
   ]
  },
  {
   "cell_type": "code",
   "execution_count": 11,
   "id": "institutional-satellite",
   "metadata": {},
   "outputs": [],
   "source": [
    "# Define selection values for query\n",
    "sel = [Measurement.date,\n",
    "       func.sum(Measurement.prcp)\n",
    "]\n",
    "\n",
    "# Retrieve the last 12 months of precipitation data\n",
    "last_twelve_months = session.query(*sel).\\\n",
    "    filter(Measurement.date <= '2017-08-23').\\\n",
    "    filter(Measurement.date >= '2016-08-23').\\\n",
    "    order_by(Measurement.date).group_by(Measurement.date).all()\n"
   ]
  },
  {
   "cell_type": "code",
   "execution_count": 32,
   "id": "stable-child",
   "metadata": {},
   "outputs": [
    {
     "data": {
      "text/plain": [
       "[('2016-08-23', 2.71),\n",
       " ('2016-08-24', 9.329999999999998),\n",
       " ('2016-08-25', 0.54),\n",
       " ('2016-08-26', 0.09999999999999999),\n",
       " ('2016-08-27', 0.31999999999999995),\n",
       " ('2016-08-28', 3.0999999999999996),\n",
       " ('2016-08-29', 1.46),\n",
       " ('2016-08-30', 0.07),\n",
       " ('2016-08-31', 3.1799999999999997),\n",
       " ('2016-09-01', 0.03),\n",
       " ('2016-09-02', 0.25),\n",
       " ('2016-09-03', 1.27),\n",
       " ('2016-09-04', 1.3800000000000001),\n",
       " ('2016-09-05', 0.33999999999999997),\n",
       " ('2016-09-06', 1.23),\n",
       " ('2016-09-07', 2.0),\n",
       " ('2016-09-08', 0.4600000000000001),\n",
       " ('2016-09-09', 1.0699999999999998),\n",
       " ('2016-09-10', 1.4),\n",
       " ('2016-09-11', 1.25),\n",
       " ('2016-09-12', 1.54),\n",
       " ('2016-09-13', 2.71),\n",
       " ('2016-09-14', 14.280000000000001),\n",
       " ('2016-09-15', 4.96),\n",
       " ('2016-09-16', 0.8200000000000001),\n",
       " ('2016-09-17', 0.6799999999999999),\n",
       " ('2016-09-18', 0.53),\n",
       " ('2016-09-19', 0.32),\n",
       " ('2016-09-20', 1.03),\n",
       " ('2016-09-21', 1.17),\n",
       " ('2016-09-22', 1.44),\n",
       " ('2016-09-23', 1.57),\n",
       " ('2016-09-24', 0.28),\n",
       " ('2016-09-25', 0.09),\n",
       " ('2016-09-26', 1.67),\n",
       " ('2016-09-27', 1.3599999999999999),\n",
       " ('2016-09-28', 0.13),\n",
       " ('2016-09-29', 2.99),\n",
       " ('2016-09-30', 1.15),\n",
       " ('2016-10-01', 1.4500000000000002),\n",
       " ('2016-10-02', 0.72),\n",
       " ('2016-10-03', 0.6900000000000001),\n",
       " ('2016-10-04', 3.4899999999999998),\n",
       " ('2016-10-05', 0.8200000000000001),\n",
       " ('2016-10-06', 0.16),\n",
       " ('2016-10-07', 0.01),\n",
       " ('2016-10-08', 0.04),\n",
       " ('2016-10-09', 0.0),\n",
       " ('2016-10-10', 0.0),\n",
       " ('2016-10-11', 0.69),\n",
       " ('2016-10-12', 0.08),\n",
       " ('2016-10-13', 0.08),\n",
       " ('2016-10-14', 0.0),\n",
       " ('2016-10-15', 0.39),\n",
       " ('2016-10-16', 0.0),\n",
       " ('2016-10-17', 0.55),\n",
       " ('2016-10-18', 0.6),\n",
       " ('2016-10-19', 0.16999999999999998),\n",
       " ('2016-10-20', 1.01),\n",
       " ('2016-10-21', 0.32),\n",
       " ('2016-10-22', 1.77),\n",
       " ('2016-10-23', 0.27999999999999997),\n",
       " ('2016-10-24', 0.7899999999999999),\n",
       " ('2016-10-25', 1.1),\n",
       " ('2016-10-26', 0.29000000000000004),\n",
       " ('2016-10-27', 1.8599999999999999),\n",
       " ('2016-10-28', 0.5700000000000001),\n",
       " ('2016-10-29', 0.64),\n",
       " ('2016-10-30', 1.5899999999999999),\n",
       " ('2016-10-31', 1.61),\n",
       " ('2016-11-01', 0.21000000000000002),\n",
       " ('2016-11-02', 0.04),\n",
       " ('2016-11-03', 0.02),\n",
       " ('2016-11-04', 0.06),\n",
       " ('2016-11-05', 0.45),\n",
       " ('2016-11-06', 0.08),\n",
       " ('2016-11-07', 0.18),\n",
       " ('2016-11-08', 1.12),\n",
       " ('2016-11-09', 0.39999999999999997),\n",
       " ('2016-11-10', 0.01),\n",
       " ('2016-11-11', 0.0),\n",
       " ('2016-11-12', 0.0),\n",
       " ('2016-11-13', 0.0),\n",
       " ('2016-11-14', 0.15),\n",
       " ('2016-11-15', 0.05),\n",
       " ('2016-11-16', 1.54),\n",
       " ('2016-11-17', 0.06),\n",
       " ('2016-11-18', 0.03),\n",
       " ('2016-11-19', 0.38),\n",
       " ('2016-11-20', 0.9500000000000001),\n",
       " ('2016-11-21', 3.08),\n",
       " ('2016-11-22', 5.01),\n",
       " ('2016-11-23', 0.67),\n",
       " ('2016-11-24', 1.48),\n",
       " ('2016-11-25', 1.32),\n",
       " ('2016-11-26', 0.51),\n",
       " ('2016-11-27', 0.55),\n",
       " ('2016-11-28', 0.72),\n",
       " ('2016-11-29', 0.43000000000000005),\n",
       " ('2016-11-30', 1.06),\n",
       " ('2016-12-01', 1.77),\n",
       " ('2016-12-02', 2.36),\n",
       " ('2016-12-03', 2.71),\n",
       " ('2016-12-04', 0.8),\n",
       " ('2016-12-05', 3.24),\n",
       " ('2016-12-06', 0.04),\n",
       " ('2016-12-07', 0.38),\n",
       " ('2016-12-08', 0.4600000000000001),\n",
       " ('2016-12-09', 1.85),\n",
       " ('2016-12-10', 0.13),\n",
       " ('2016-12-11', 0.25),\n",
       " ('2016-12-12', 0.05),\n",
       " ('2016-12-13', 0.77),\n",
       " ('2016-12-14', 1.5),\n",
       " ('2016-12-15', 0.26),\n",
       " ('2016-12-16', 0.04),\n",
       " ('2016-12-17', 0.35000000000000003),\n",
       " ('2016-12-18', 0.89),\n",
       " ('2016-12-19', 0.42000000000000004),\n",
       " ('2016-12-20', 0.03),\n",
       " ('2016-12-21', 0.9),\n",
       " ('2016-12-22', 2.4699999999999998),\n",
       " ('2016-12-23', 1.23),\n",
       " ('2016-12-24', 1.62),\n",
       " ('2016-12-25', 0.43),\n",
       " ('2016-12-26', 2.04),\n",
       " ('2016-12-27', 0.24000000000000002),\n",
       " ('2016-12-28', 0.41000000000000003),\n",
       " ('2016-12-29', 2.38),\n",
       " ('2016-12-30', 3.35),\n",
       " ('2016-12-31', 2.14),\n",
       " ('2017-01-01', 0.35),\n",
       " ('2017-01-02', 0.02),\n",
       " ('2017-01-03', 0.0),\n",
       " ('2017-01-04', 0.18),\n",
       " ('2017-01-05', 0.95),\n",
       " ('2017-01-06', 0.7999999999999999),\n",
       " ('2017-01-07', 0.06),\n",
       " ('2017-01-08', 0.06),\n",
       " ('2017-01-09', 0.0),\n",
       " ('2017-01-10', 0.0),\n",
       " ('2017-01-11', 0.0),\n",
       " ('2017-01-12', 0.0),\n",
       " ('2017-01-13', 0.0),\n",
       " ('2017-01-14', 0.01),\n",
       " ('2017-01-15', 0.01),\n",
       " ('2017-01-16', 0.0),\n",
       " ('2017-01-17', 0.0),\n",
       " ('2017-01-18', 0.07),\n",
       " ('2017-01-19', 0.02),\n",
       " ('2017-01-20', 0.0),\n",
       " ('2017-01-21', 0.27999999999999997),\n",
       " ('2017-01-22', 1.02),\n",
       " ('2017-01-23', 0.94),\n",
       " ('2017-01-24', 2.25),\n",
       " ('2017-01-25', 3.58),\n",
       " ('2017-01-26', 0.11),\n",
       " ('2017-01-27', 0.06),\n",
       " ('2017-01-28', 0.14),\n",
       " ('2017-01-29', 0.99),\n",
       " ('2017-01-30', 0.05),\n",
       " ('2017-01-31', 0.0),\n",
       " ('2017-02-01', 0.0),\n",
       " ('2017-02-02', 0.0),\n",
       " ('2017-02-03', 0.0),\n",
       " ('2017-02-04', 0.0),\n",
       " ('2017-02-05', 0.0),\n",
       " ('2017-02-06', 0.38),\n",
       " ('2017-02-07', 7.4),\n",
       " ('2017-02-08', 1.08),\n",
       " ('2017-02-09', 0.02),\n",
       " ('2017-02-10', 0.0),\n",
       " ('2017-02-11', 11.200000000000001),\n",
       " ('2017-02-12', 10.48),\n",
       " ('2017-02-13', 2.9199999999999995),\n",
       " ('2017-02-14', 0.01),\n",
       " ('2017-02-15', 0.08),\n",
       " ('2017-02-16', 2.2199999999999998),\n",
       " ('2017-02-17', 1.0500000000000003),\n",
       " ('2017-02-18', 0.01),\n",
       " ('2017-02-19', 0.19),\n",
       " ('2017-02-20', 0.0),\n",
       " ('2017-02-21', 0.13),\n",
       " ('2017-02-22', 0.9100000000000001),\n",
       " ('2017-02-23', 0.01),\n",
       " ('2017-02-24', 0.0),\n",
       " ('2017-02-25', 0.15),\n",
       " ('2017-02-26', 0.0),\n",
       " ('2017-02-27', 0.0),\n",
       " ('2017-02-28', 0.82),\n",
       " ('2017-03-01', 11.620000000000001),\n",
       " ('2017-03-02', 6.56),\n",
       " ('2017-03-03', 2.23),\n",
       " ('2017-03-04', 0.0),\n",
       " ('2017-03-05', 1.21),\n",
       " ('2017-03-06', 0.54),\n",
       " ('2017-03-07', 0.0),\n",
       " ('2017-03-08', 0.0),\n",
       " ('2017-03-09', 1.9600000000000002),\n",
       " ('2017-03-10', 0.29000000000000004),\n",
       " ('2017-03-11', 0.04),\n",
       " ('2017-03-12', 0.0),\n",
       " ('2017-03-13', 0.0),\n",
       " ('2017-03-14', 0.06),\n",
       " ('2017-03-15', 0.06),\n",
       " ('2017-03-16', 0.0),\n",
       " ('2017-03-17', 0.72),\n",
       " ('2017-03-18', 0.0),\n",
       " ('2017-03-19', 0.0),\n",
       " ('2017-03-20', 0.02),\n",
       " ('2017-03-21', 0.09),\n",
       " ('2017-03-22', 0.0),\n",
       " ('2017-03-23', 0.05),\n",
       " ('2017-03-24', 1.1300000000000001),\n",
       " ('2017-03-25', 1.9700000000000002),\n",
       " ('2017-03-26', 0.0),\n",
       " ('2017-03-27', 0.01),\n",
       " ('2017-03-28', 0.7100000000000001),\n",
       " ('2017-03-29', 0.19),\n",
       " ('2017-03-30', 0.15),\n",
       " ('2017-03-31', 0.01),\n",
       " ('2017-04-01', 0.41000000000000003),\n",
       " ('2017-04-02', 0.0),\n",
       " ('2017-04-03', 0.66),\n",
       " ('2017-04-04', 0.15),\n",
       " ('2017-04-05', 0.66),\n",
       " ('2017-04-06', 0.06),\n",
       " ('2017-04-07', 0.0),\n",
       " ('2017-04-08', 0.0),\n",
       " ('2017-04-09', 0.0),\n",
       " ('2017-04-10', 0.02),\n",
       " ('2017-04-11', 0.47),\n",
       " ('2017-04-12', 1.08),\n",
       " ('2017-04-13', 1.09),\n",
       " ('2017-04-14', 6.72),\n",
       " ('2017-04-15', 1.7400000000000002),\n",
       " ('2017-04-16', 1.07),\n",
       " ('2017-04-17', 3.0700000000000003),\n",
       " ('2017-04-18', 3.36),\n",
       " ('2017-04-19', 0.2),\n",
       " ('2017-04-20', 0.78),\n",
       " ('2017-04-21', 8.38),\n",
       " ('2017-04-22', 4.960000000000001),\n",
       " ('2017-04-23', 0.45999999999999996),\n",
       " ('2017-04-24', 0.060000000000000005),\n",
       " ('2017-04-25', 0.0),\n",
       " ('2017-04-26', 0.39),\n",
       " ('2017-04-27', 0.42),\n",
       " ('2017-04-28', 4.24),\n",
       " ('2017-04-29', 8.04),\n",
       " ('2017-04-30', 6.42),\n",
       " ('2017-05-01', 0.81),\n",
       " ('2017-05-02', 0.05),\n",
       " ('2017-05-03', 0.03),\n",
       " ('2017-05-04', 0.08),\n",
       " ('2017-05-05', 0.38),\n",
       " ('2017-05-06', 0.06),\n",
       " ('2017-05-07', 0.12000000000000001),\n",
       " ('2017-05-08', 3.01),\n",
       " ('2017-05-09', 4.630000000000001),\n",
       " ('2017-05-10', 0.8600000000000001),\n",
       " ('2017-05-11', 0.6),\n",
       " ('2017-05-12', 0.16),\n",
       " ('2017-05-13', 0.24),\n",
       " ('2017-05-14', 1.22),\n",
       " ('2017-05-15', 0.88),\n",
       " ('2017-05-16', 0.42),\n",
       " ('2017-05-17', 0.15000000000000002),\n",
       " ('2017-05-18', 0.85),\n",
       " ('2017-05-19', 0.04),\n",
       " ('2017-05-20', 0.03),\n",
       " ('2017-05-21', 0.01),\n",
       " ('2017-05-22', 0.36),\n",
       " ('2017-05-23', 0.71),\n",
       " ('2017-05-24', 3.8899999999999997),\n",
       " ('2017-05-25', 2.22),\n",
       " ('2017-05-26', 0.02),\n",
       " ('2017-05-27', 0.51),\n",
       " ('2017-05-28', 0.41000000000000003),\n",
       " ('2017-05-29', 0.42000000000000004),\n",
       " ('2017-05-30', 1.73),\n",
       " ('2017-05-31', 0.37),\n",
       " ('2017-06-01', 0.04),\n",
       " ('2017-06-02', 0.33999999999999997),\n",
       " ('2017-06-03', 0.61),\n",
       " ('2017-06-04', 1.15),\n",
       " ('2017-06-05', 0.08),\n",
       " ('2017-06-06', 0.0),\n",
       " ('2017-06-07', 0.01),\n",
       " ('2017-06-08', 0.03),\n",
       " ('2017-06-09', 0.04),\n",
       " ('2017-06-10', 1.53),\n",
       " ('2017-06-11', 2.15),\n",
       " ('2017-06-12', 1.75),\n",
       " ('2017-06-13', 1.38),\n",
       " ('2017-06-14', 1.57),\n",
       " ('2017-06-15', 2.71),\n",
       " ('2017-06-16', 0.2),\n",
       " ('2017-06-17', 0.54),\n",
       " ('2017-06-18', 1.42),\n",
       " ('2017-06-19', 0.73),\n",
       " ('2017-06-20', 0.55),\n",
       " ('2017-06-21', 0.51),\n",
       " ('2017-06-22', 0.44000000000000006),\n",
       " ('2017-06-23', 0.6699999999999999),\n",
       " ('2017-06-24', 0.64),\n",
       " ('2017-06-25', 0.6),\n",
       " ('2017-06-26', 0.1),\n",
       " ('2017-06-27', 0.11),\n",
       " ('2017-06-28', 0.03),\n",
       " ('2017-06-29', 0.07),\n",
       " ('2017-06-30', 0.52),\n",
       " ('2017-07-01', 0.26),\n",
       " ('2017-07-02', 0.72),\n",
       " ('2017-07-03', 0.74),\n",
       " ('2017-07-04', 0.15000000000000002),\n",
       " ('2017-07-05', 0.0),\n",
       " ('2017-07-06', 0.02),\n",
       " ('2017-07-07', 0.5),\n",
       " ('2017-07-08', 0.1),\n",
       " ('2017-07-09', 0.2),\n",
       " ('2017-07-10', 0.04),\n",
       " ('2017-07-11', 0.03),\n",
       " ('2017-07-12', 0.36000000000000004),\n",
       " ('2017-07-13', 1.81),\n",
       " ('2017-07-14', 0.9500000000000001),\n",
       " ('2017-07-15', 0.19),\n",
       " ('2017-07-16', 0.81),\n",
       " ('2017-07-17', 0.91),\n",
       " ('2017-07-18', 2.53),\n",
       " ('2017-07-19', 0.41000000000000003),\n",
       " ('2017-07-20', 1.24),\n",
       " ('2017-07-21', 0.13),\n",
       " ('2017-07-22', 4.42),\n",
       " ('2017-07-23', 1.1300000000000001),\n",
       " ('2017-07-24', 3.2699999999999996),\n",
       " ('2017-07-25', 0.61),\n",
       " ('2017-07-26', 0.5),\n",
       " ('2017-07-27', 0.01),\n",
       " ('2017-07-28', 0.77),\n",
       " ('2017-07-29', 0.61),\n",
       " ('2017-07-30', 0.3),\n",
       " ('2017-07-31', 0.0),\n",
       " ('2017-08-01', 0.13999999999999999),\n",
       " ('2017-08-02', 0.3),\n",
       " ('2017-08-03', 0.06999999999999999),\n",
       " ('2017-08-04', 0.06),\n",
       " ('2017-08-05', 0.06),\n",
       " ('2017-08-06', 0.0),\n",
       " ('2017-08-07', 0.05),\n",
       " ('2017-08-08', 0.44000000000000006),\n",
       " ('2017-08-09', 0.15),\n",
       " ('2017-08-10', 0.07),\n",
       " ('2017-08-11', 0.0),\n",
       " ('2017-08-12', 0.14),\n",
       " ('2017-08-13', 0.0),\n",
       " ('2017-08-14', 0.31),\n",
       " ('2017-08-15', 0.8200000000000001),\n",
       " ('2017-08-16', 0.61),\n",
       " ('2017-08-17', 0.19),\n",
       " ('2017-08-18', 0.06),\n",
       " ('2017-08-19', 0.09),\n",
       " ('2017-08-20', 0.01),\n",
       " ('2017-08-21', 0.5800000000000001),\n",
       " ('2017-08-22', 0.5),\n",
       " ('2017-08-23', 0.53)]"
      ]
     },
     "execution_count": 32,
     "metadata": {},
     "output_type": "execute_result"
    }
   ],
   "source": [
    "last_twelve_months"
   ]
  },
  {
   "cell_type": "code",
   "execution_count": 12,
   "id": "immune-jewel",
   "metadata": {
    "scrolled": false
   },
   "outputs": [
    {
     "data": {
      "text/html": [
       "<div>\n",
       "<style scoped>\n",
       "    .dataframe tbody tr th:only-of-type {\n",
       "        vertical-align: middle;\n",
       "    }\n",
       "\n",
       "    .dataframe tbody tr th {\n",
       "        vertical-align: top;\n",
       "    }\n",
       "\n",
       "    .dataframe thead th {\n",
       "        text-align: right;\n",
       "    }\n",
       "</style>\n",
       "<table border=\"1\" class=\"dataframe\">\n",
       "  <thead>\n",
       "    <tr style=\"text-align: right;\">\n",
       "      <th></th>\n",
       "      <th>date</th>\n",
       "      <th>precipitation</th>\n",
       "    </tr>\n",
       "  </thead>\n",
       "  <tbody>\n",
       "    <tr>\n",
       "      <th>0</th>\n",
       "      <td>2016-08-23</td>\n",
       "      <td>2.71</td>\n",
       "    </tr>\n",
       "    <tr>\n",
       "      <th>1</th>\n",
       "      <td>2016-08-24</td>\n",
       "      <td>9.33</td>\n",
       "    </tr>\n",
       "    <tr>\n",
       "      <th>2</th>\n",
       "      <td>2016-08-25</td>\n",
       "      <td>0.54</td>\n",
       "    </tr>\n",
       "    <tr>\n",
       "      <th>3</th>\n",
       "      <td>2016-08-26</td>\n",
       "      <td>0.10</td>\n",
       "    </tr>\n",
       "    <tr>\n",
       "      <th>4</th>\n",
       "      <td>2016-08-27</td>\n",
       "      <td>0.32</td>\n",
       "    </tr>\n",
       "    <tr>\n",
       "      <th>...</th>\n",
       "      <td>...</td>\n",
       "      <td>...</td>\n",
       "    </tr>\n",
       "    <tr>\n",
       "      <th>361</th>\n",
       "      <td>2017-08-19</td>\n",
       "      <td>0.09</td>\n",
       "    </tr>\n",
       "    <tr>\n",
       "      <th>362</th>\n",
       "      <td>2017-08-20</td>\n",
       "      <td>0.01</td>\n",
       "    </tr>\n",
       "    <tr>\n",
       "      <th>363</th>\n",
       "      <td>2017-08-21</td>\n",
       "      <td>0.58</td>\n",
       "    </tr>\n",
       "    <tr>\n",
       "      <th>364</th>\n",
       "      <td>2017-08-22</td>\n",
       "      <td>0.50</td>\n",
       "    </tr>\n",
       "    <tr>\n",
       "      <th>365</th>\n",
       "      <td>2017-08-23</td>\n",
       "      <td>0.53</td>\n",
       "    </tr>\n",
       "  </tbody>\n",
       "</table>\n",
       "<p>366 rows × 2 columns</p>\n",
       "</div>"
      ],
      "text/plain": [
       "           date  precipitation\n",
       "0    2016-08-23           2.71\n",
       "1    2016-08-24           9.33\n",
       "2    2016-08-25           0.54\n",
       "3    2016-08-26           0.10\n",
       "4    2016-08-27           0.32\n",
       "..          ...            ...\n",
       "361  2017-08-19           0.09\n",
       "362  2017-08-20           0.01\n",
       "363  2017-08-21           0.58\n",
       "364  2017-08-22           0.50\n",
       "365  2017-08-23           0.53\n",
       "\n",
       "[366 rows x 2 columns]"
      ]
     },
     "execution_count": 12,
     "metadata": {},
     "output_type": "execute_result"
    }
   ],
   "source": [
    "# Load the query results into a DataFrame\n",
    "measurement_df = pd.DataFrame(last_twelve_months, columns = [\"date\", \"precipitation\"])\n",
    "measurement_df"
   ]
  },
  {
   "cell_type": "markdown",
   "id": "hourly-necklace",
   "metadata": {},
   "source": [
    "### Generate Labels for Graphs:"
   ]
  },
  {
   "cell_type": "code",
   "execution_count": 13,
   "id": "stone-astrology",
   "metadata": {},
   "outputs": [
    {
     "data": {
      "text/plain": [
       "366"
      ]
     },
     "execution_count": 13,
     "metadata": {},
     "output_type": "execute_result"
    }
   ],
   "source": [
    "# Find the number of dates\n",
    "date_count = measurement_df['date'].count()\n",
    "date_count"
   ]
  },
  {
   "cell_type": "code",
   "execution_count": 14,
   "id": "documentary-posting",
   "metadata": {},
   "outputs": [
    {
     "data": {
      "text/plain": [
       "30.5"
      ]
     },
     "execution_count": 14,
     "metadata": {},
     "output_type": "execute_result"
    }
   ],
   "source": [
    "# Figure out the number to increment x-ticks\n",
    "divided = date_count / 12\n",
    "divided"
   ]
  },
  {
   "cell_type": "code",
   "execution_count": 15,
   "id": "subsequent-identification",
   "metadata": {},
   "outputs": [],
   "source": [
    "# Find date labels for dates every 31 days\n",
    "date_labels = []\n",
    "date = dt.date(2016,8,23)\n",
    "start_date_str = date.strftime(\"%Y-%m-%d\")\n",
    "date_labels.append(start_date_str)\n",
    "\n",
    "# Loop through and append dates to a list\n",
    "for x in range(0,11):\n",
    "    date = date + dt.timedelta(days=31)\n",
    "    date_str = date.strftime(\"%Y-%m-%d\")\n",
    "    date_labels.append(date_str)"
   ]
  },
  {
   "cell_type": "code",
   "execution_count": 16,
   "id": "stunning-lafayette",
   "metadata": {
    "scrolled": true
   },
   "outputs": [
    {
     "data": {
      "text/plain": [
       "['2016-08-23',\n",
       " '2016-09-23',\n",
       " '2016-10-24',\n",
       " '2016-11-24',\n",
       " '2016-12-25',\n",
       " '2017-01-25',\n",
       " '2017-02-25',\n",
       " '2017-03-28',\n",
       " '2017-04-28',\n",
       " '2017-05-29',\n",
       " '2017-06-29',\n",
       " '2017-07-30']"
      ]
     },
     "execution_count": 16,
     "metadata": {},
     "output_type": "execute_result"
    }
   ],
   "source": [
    "# Print date labels to check\n",
    "date_labels"
   ]
  },
  {
   "cell_type": "code",
   "execution_count": 17,
   "id": "coordinated-rochester",
   "metadata": {
    "scrolled": true
   },
   "outputs": [
    {
     "data": {
      "text/html": [
       "<div>\n",
       "<style scoped>\n",
       "    .dataframe tbody tr th:only-of-type {\n",
       "        vertical-align: middle;\n",
       "    }\n",
       "\n",
       "    .dataframe tbody tr th {\n",
       "        vertical-align: top;\n",
       "    }\n",
       "\n",
       "    .dataframe thead th {\n",
       "        text-align: right;\n",
       "    }\n",
       "</style>\n",
       "<table border=\"1\" class=\"dataframe\">\n",
       "  <thead>\n",
       "    <tr style=\"text-align: right;\">\n",
       "      <th></th>\n",
       "      <th>precipitation</th>\n",
       "    </tr>\n",
       "    <tr>\n",
       "      <th>date</th>\n",
       "      <th></th>\n",
       "    </tr>\n",
       "  </thead>\n",
       "  <tbody>\n",
       "    <tr>\n",
       "      <th>2016-08-23</th>\n",
       "      <td>2.71</td>\n",
       "    </tr>\n",
       "    <tr>\n",
       "      <th>2016-08-24</th>\n",
       "      <td>9.33</td>\n",
       "    </tr>\n",
       "    <tr>\n",
       "      <th>2016-08-25</th>\n",
       "      <td>0.54</td>\n",
       "    </tr>\n",
       "    <tr>\n",
       "      <th>2016-08-26</th>\n",
       "      <td>0.10</td>\n",
       "    </tr>\n",
       "    <tr>\n",
       "      <th>2016-08-27</th>\n",
       "      <td>0.32</td>\n",
       "    </tr>\n",
       "    <tr>\n",
       "      <th>...</th>\n",
       "      <td>...</td>\n",
       "    </tr>\n",
       "    <tr>\n",
       "      <th>2017-08-19</th>\n",
       "      <td>0.09</td>\n",
       "    </tr>\n",
       "    <tr>\n",
       "      <th>2017-08-20</th>\n",
       "      <td>0.01</td>\n",
       "    </tr>\n",
       "    <tr>\n",
       "      <th>2017-08-21</th>\n",
       "      <td>0.58</td>\n",
       "    </tr>\n",
       "    <tr>\n",
       "      <th>2017-08-22</th>\n",
       "      <td>0.50</td>\n",
       "    </tr>\n",
       "    <tr>\n",
       "      <th>2017-08-23</th>\n",
       "      <td>0.53</td>\n",
       "    </tr>\n",
       "  </tbody>\n",
       "</table>\n",
       "<p>366 rows × 1 columns</p>\n",
       "</div>"
      ],
      "text/plain": [
       "            precipitation\n",
       "date                     \n",
       "2016-08-23           2.71\n",
       "2016-08-24           9.33\n",
       "2016-08-25           0.54\n",
       "2016-08-26           0.10\n",
       "2016-08-27           0.32\n",
       "...                   ...\n",
       "2017-08-19           0.09\n",
       "2017-08-20           0.01\n",
       "2017-08-21           0.58\n",
       "2017-08-22           0.50\n",
       "2017-08-23           0.53\n",
       "\n",
       "[366 rows x 1 columns]"
      ]
     },
     "execution_count": 17,
     "metadata": {},
     "output_type": "execute_result"
    }
   ],
   "source": [
    "# Set the date as the index and SORT BY date\n",
    "measurement_df.set_index(\"date\", inplace=True)\n",
    "measurement_df.sort_values(\"date\")"
   ]
  },
  {
   "cell_type": "code",
   "execution_count": 18,
   "id": "intense-canada",
   "metadata": {},
   "outputs": [
    {
     "data": {
      "image/png": "[encoded data removed]",
      "text/plain": [
       "<Figure size 720x432 with 1 Axes>"
      ]
     },
     "metadata": {},
     "output_type": "display_data"
    }
   ],
   "source": [
    "# Plot the results using the DataFrame plot method\n",
    "ax = measurement_df.plot(rot = 90, kind=\"bar\", figsize=(10, 6), width=3)\n",
    "plt.tight_layout()\n",
    "plt.xticks(np.arange(0,date_count,31), date_labels)\n",
    "plt.xlabel(\"Date\")\n",
    "plt.ylabel(\"Precipitation (Inches)\")\n",
    "plt.ylim(-1,14.5)\n",
    "plt.title(\"Precipitation in the Last 12 Months\")\n",
    "plt.show()"
   ]
  },
  {
   "cell_type": "markdown",
   "id": "macro-cursor",
   "metadata": {},
   "source": [
    "### Summary Statisitcs:"
   ]
  },
  {
   "cell_type": "code",
   "execution_count": 19,
   "id": "statewide-variance",
   "metadata": {},
   "outputs": [
    {
     "data": {
      "text/plain": [
       "count    366.000000\n",
       "mean       0.978907\n",
       "std        1.776349\n",
       "min        0.000000\n",
       "25%        0.052500\n",
       "50%        0.405000\n",
       "75%        1.087500\n",
       "max       14.280000\n",
       "Name: precipitation, dtype: float64"
      ]
     },
     "execution_count": 19,
     "metadata": {},
     "output_type": "execute_result"
    }
   ],
   "source": [
    "# Summary statistics\n",
    "measurement_df[\"precipitation\"].describe()"
   ]
  },
  {
   "cell_type": "code",
   "execution_count": 20,
   "id": "speaking-advice",
   "metadata": {},
   "outputs": [],
   "source": [
    "# Calculate stats for table\n",
    "max_prcp = measurement_df[\"precipitation\"].max()\n",
    "min_prcp = measurement_df[\"precipitation\"].min()\n",
    "std_prcp = measurement_df[\"precipitation\"].std()\n",
    "avg_prcp = measurement_df[\"precipitation\"].mean()\n",
    "median_prcp = measurement_df[\"precipitation\"].median()"
   ]
  },
  {
   "cell_type": "code",
   "execution_count": 21,
   "id": "proper-panic",
   "metadata": {},
   "outputs": [
    {
     "data": {
      "text/html": [
       "<div>\n",
       "<style scoped>\n",
       "    .dataframe tbody tr th:only-of-type {\n",
       "        vertical-align: middle;\n",
       "    }\n",
       "\n",
       "    .dataframe tbody tr th {\n",
       "        vertical-align: top;\n",
       "    }\n",
       "\n",
       "    .dataframe thead th {\n",
       "        text-align: right;\n",
       "    }\n",
       "</style>\n",
       "<table border=\"1\" class=\"dataframe\">\n",
       "  <thead>\n",
       "    <tr style=\"text-align: right;\">\n",
       "      <th></th>\n",
       "      <th>Mean</th>\n",
       "      <th>Max</th>\n",
       "      <th>Min</th>\n",
       "      <th>Standard Dev</th>\n",
       "      <th>Median</th>\n",
       "    </tr>\n",
       "  </thead>\n",
       "  <tbody>\n",
       "    <tr>\n",
       "      <th>0</th>\n",
       "      <td>0.978907</td>\n",
       "      <td>14.28</td>\n",
       "      <td>0.0</td>\n",
       "      <td>1.776349</td>\n",
       "      <td>0.405</td>\n",
       "    </tr>\n",
       "  </tbody>\n",
       "</table>\n",
       "</div>"
      ],
      "text/plain": [
       "       Mean    Max  Min  Standard Dev  Median\n",
       "0  0.978907  14.28  0.0      1.776349   0.405"
      ]
     },
     "execution_count": 21,
     "metadata": {},
     "output_type": "execute_result"
    }
   ],
   "source": [
    "# Stats Table\n",
    "stats_table = pd.DataFrame({\n",
    "    \"Mean\": avg_prcp,\n",
    "    \"Max\": max_prcp,\n",
    "    \"Min\": min_prcp,\n",
    "    \"Standard Dev\": std_prcp,\n",
    "    \"Median\": median_prcp\n",
    "}, index=[0])\n",
    "\n",
    "stats_table"
   ]
  },
  {
   "cell_type": "markdown",
   "id": "missing-revelation",
   "metadata": {},
   "source": [
    "### Exploratory Station Analysis"
   ]
  },
  {
   "cell_type": "code",
   "execution_count": 22,
   "id": "burning-kazakhstan",
   "metadata": {},
   "outputs": [
    {
     "name": "stdout",
     "output_type": "stream",
     "text": [
      "id INTEGER\n",
      "station TEXT\n",
      "name TEXT\n",
      "latitude FLOAT\n",
      "longitude FLOAT\n",
      "elevation FLOAT\n"
     ]
    }
   ],
   "source": [
    "# Use inspector to see the column names for station\n",
    "columns_station = inspector.get_columns('station')\n",
    "\n",
    "# Print out the name and type of each column\n",
    "for c in columns_station:\n",
    "    print(c[\"name\"], c[\"type\"])"
   ]
  },
  {
   "cell_type": "code",
   "execution_count": 23,
   "id": "extensive-medicine",
   "metadata": {},
   "outputs": [
    {
     "data": {
      "text/plain": [
       "[(1, 'USC00519397', 'WAIKIKI 717.2, HI US', 21.2716, -157.8168, 3.0),\n",
       " (2, 'USC00513117', 'KANEOHE 838.1, HI US', 21.4234, -157.8015, 14.6),\n",
       " (3, 'USC00514830', 'KUALOA RANCH HEADQUARTERS 886.9, HI US', 21.5213, -157.8374, 7.0),\n",
       " (4, 'USC00517948', 'PEARL CITY, HI US', 21.3934, -157.9751, 11.9),\n",
       " (5, 'USC00518838', 'UPPER WAHIAWA 874.3, HI US', 21.4992, -158.0111, 306.6),\n",
       " (6, 'USC00519523', 'WAIMANALO EXPERIMENTAL FARM, HI US', 21.33556, -157.71139, 19.5),\n",
       " (7, 'USC00519281', 'WAIHEE 837.5, HI US', 21.45167, -157.84888999999998, 32.9),\n",
       " (8, 'USC00511918', 'HONOLULU OBSERVATORY 702.2, HI US', 21.3152, -157.9992, 0.9),\n",
       " (9, 'USC00516128', 'MANOA LYON ARBO 785.2, HI US', 21.3331, -157.8025, 152.4)]"
      ]
     },
     "execution_count": 23,
     "metadata": {},
     "output_type": "execute_result"
    }
   ],
   "source": [
    "# See the rows of data in station\n",
    "engine.execute(\"SELECT * FROM station\").fetchall()"
   ]
  },
  {
   "cell_type": "markdown",
   "id": "fatal-subject",
   "metadata": {},
   "source": [
    "### Number of Stations:"
   ]
  },
  {
   "cell_type": "code",
   "execution_count": 33,
   "id": "tested-magazine",
   "metadata": {},
   "outputs": [
    {
     "name": "stdout",
     "output_type": "stream",
     "text": [
      "Number of Stations: 9\n"
     ]
    }
   ],
   "source": [
    "# Query to calculate the total number of stations\n",
    "number_of_stations = session.query(func.count(Station.station)).all()\n",
    "\n",
    "# Convert tuple to a list\n",
    "num_of_stations = list(np.ravel(number_of_stations))\n",
    "\n",
    "print(f\"Number of Stations: {num_of_stations[0]}\")"
   ]
  },
  {
   "cell_type": "markdown",
   "id": "starting-ridge",
   "metadata": {},
   "source": [
    "### Stations Ordered by Activity:"
   ]
  },
  {
   "cell_type": "code",
   "execution_count": 25,
   "id": "medium-personality",
   "metadata": {},
   "outputs": [
    {
     "data": {
      "text/plain": [
       "[(7, 'USC00519281', 'WAIHEE 837.5, HI US', 2772),\n",
       " (1, 'USC00519397', 'WAIKIKI 717.2, HI US', 2724),\n",
       " (2, 'USC00513117', 'KANEOHE 838.1, HI US', 2709),\n",
       " (6, 'USC00519523', 'WAIMANALO EXPERIMENTAL FARM, HI US', 2669),\n",
       " (9, 'USC00516128', 'MANOA LYON ARBO 785.2, HI US', 2612),\n",
       " (3, 'USC00514830', 'KUALOA RANCH HEADQUARTERS 886.9, HI US', 2202),\n",
       " (8, 'USC00511918', 'HONOLULU OBSERVATORY 702.2, HI US', 1979),\n",
       " (4, 'USC00517948', 'PEARL CITY, HI US', 1372),\n",
       " (5, 'USC00518838', 'UPPER WAHIAWA 874.3, HI US', 511)]"
      ]
     },
     "execution_count": 25,
     "metadata": {},
     "output_type": "execute_result"
    }
   ],
   "source": [
    "# Query to find the most active stations \n",
    "sel = [Station.id,\n",
    "    Station.station,\n",
    "    Station.name,\n",
    "    func.count(Measurement.id)\n",
    "]\n",
    "\n",
    "# Create query that filters by the join between the tables\n",
    "session.query(*sel).filter(Station.station == Measurement.station).\\\n",
    "    group_by(Station.id).order_by(func.count(Measurement.id).desc()).all()"
   ]
  },
  {
   "cell_type": "markdown",
   "id": "sharp-crest",
   "metadata": {},
   "source": [
    "### Station ID: USC00519281 has the highest number of observations"
   ]
  },
  {
   "cell_type": "code",
   "execution_count": 26,
   "id": "greenhouse-crack",
   "metadata": {},
   "outputs": [
    {
     "data": {
      "text/plain": [
       "'USC00519281'"
      ]
     },
     "execution_count": 26,
     "metadata": {},
     "output_type": "execute_result"
    }
   ],
   "source": [
    "# Find the station name of the most active station\n",
    "most_active_station = session.query(Station.station).filter(Station.station == Measurement.station).\\\n",
    "    group_by(Station.id).order_by(func.count(Measurement.id).desc()).first()\n",
    "\n",
    "most_active_station[0]"
   ]
  },
  {
   "cell_type": "code",
   "execution_count": 27,
   "id": "identified-panama",
   "metadata": {},
   "outputs": [
    {
     "name": "stdout",
     "output_type": "stream",
     "text": [
      "The lowest temperature at USC00519281 is 53.0.\n",
      "The highest temperature at USC00519281 is 87.0.\n",
      "The average temperature at USC00519281 is 73.098.\n"
     ]
    }
   ],
   "source": [
    "# Define what we will be selecting\n",
    "sel = [\n",
    "    func.min(Measurement.tobs),\n",
    "    func.max(Measurement.tobs),\n",
    "    func.avg(Measurement.tobs)\n",
    "]\n",
    "\n",
    "# Query the database to get the above selections\n",
    "calculations = session.query(*sel).all()\n",
    "\n",
    "# Pull the data out of the tuple\n",
    "for record in calculations:\n",
    "    (min_temp, max_temp, avg_temp) = record\n",
    "\n",
    "# Print the most active station's stats\n",
    "print(f\"The lowest temperature at {most_active_station[0]} is {min_temp}.\")\n",
    "print(f\"The highest temperature at {most_active_station[0]} is {max_temp}.\")\n",
    "print(f\"The average temperature at {most_active_station[0]} is {avg_temp:.3f}.\")"
   ]
  },
  {
   "cell_type": "code",
   "execution_count": 34,
   "id": "steady-diving",
   "metadata": {},
   "outputs": [
    {
     "data": {
      "text/plain": [
       "('2017-08-18',)"
      ]
     },
     "execution_count": 34,
     "metadata": {},
     "output_type": "execute_result"
    }
   ],
   "source": [
    "# Find the last date of data for the most active station\n",
    "session.query(Measurement.date).filter(Measurement.station == \"USC00519281\").order_by(Measurement.date.desc()).first()"
   ]
  },
  {
   "cell_type": "code",
   "execution_count": 35,
   "id": "looking-humanity",
   "metadata": {},
   "outputs": [],
   "source": [
    "# Retrieve the last 12 months of data for most active\n",
    "sel = [Measurement.tobs,\n",
    "   Measurement.date\n",
    "]\n",
    "\n",
    "twelve_months_active = session.query(*sel).\\\n",
    "    filter(Measurement.date <= '2017-08-18').\\\n",
    "    filter(Measurement.date >= '2016-08-18').\\\n",
    "    filter(Measurement.station == \"USC00519281\").\\\n",
    "    order_by(Measurement.date).all()\n"
   ]
  },
  {
   "cell_type": "code",
   "execution_count": 36,
   "id": "ideal-raise",
   "metadata": {},
   "outputs": [
    {
     "data": {
      "text/html": [
       "<div>\n",
       "<style scoped>\n",
       "    .dataframe tbody tr th:only-of-type {\n",
       "        vertical-align: middle;\n",
       "    }\n",
       "\n",
       "    .dataframe tbody tr th {\n",
       "        vertical-align: top;\n",
       "    }\n",
       "\n",
       "    .dataframe thead th {\n",
       "        text-align: right;\n",
       "    }\n",
       "</style>\n",
       "<table border=\"1\" class=\"dataframe\">\n",
       "  <thead>\n",
       "    <tr style=\"text-align: right;\">\n",
       "      <th></th>\n",
       "      <th>temperature</th>\n",
       "      <th>date</th>\n",
       "    </tr>\n",
       "  </thead>\n",
       "  <tbody>\n",
       "    <tr>\n",
       "      <th>0</th>\n",
       "      <td>80.0</td>\n",
       "      <td>2016-08-18</td>\n",
       "    </tr>\n",
       "    <tr>\n",
       "      <th>1</th>\n",
       "      <td>79.0</td>\n",
       "      <td>2016-08-19</td>\n",
       "    </tr>\n",
       "    <tr>\n",
       "      <th>2</th>\n",
       "      <td>81.0</td>\n",
       "      <td>2016-08-20</td>\n",
       "    </tr>\n",
       "    <tr>\n",
       "      <th>3</th>\n",
       "      <td>79.0</td>\n",
       "      <td>2016-08-21</td>\n",
       "    </tr>\n",
       "    <tr>\n",
       "      <th>4</th>\n",
       "      <td>78.0</td>\n",
       "      <td>2016-08-22</td>\n",
       "    </tr>\n",
       "    <tr>\n",
       "      <th>...</th>\n",
       "      <td>...</td>\n",
       "      <td>...</td>\n",
       "    </tr>\n",
       "    <tr>\n",
       "      <th>352</th>\n",
       "      <td>77.0</td>\n",
       "      <td>2017-08-14</td>\n",
       "    </tr>\n",
       "    <tr>\n",
       "      <th>353</th>\n",
       "      <td>77.0</td>\n",
       "      <td>2017-08-15</td>\n",
       "    </tr>\n",
       "    <tr>\n",
       "      <th>354</th>\n",
       "      <td>76.0</td>\n",
       "      <td>2017-08-16</td>\n",
       "    </tr>\n",
       "    <tr>\n",
       "      <th>355</th>\n",
       "      <td>76.0</td>\n",
       "      <td>2017-08-17</td>\n",
       "    </tr>\n",
       "    <tr>\n",
       "      <th>356</th>\n",
       "      <td>79.0</td>\n",
       "      <td>2017-08-18</td>\n",
       "    </tr>\n",
       "  </tbody>\n",
       "</table>\n",
       "<p>357 rows × 2 columns</p>\n",
       "</div>"
      ],
      "text/plain": [
       "     temperature        date\n",
       "0           80.0  2016-08-18\n",
       "1           79.0  2016-08-19\n",
       "2           81.0  2016-08-20\n",
       "3           79.0  2016-08-21\n",
       "4           78.0  2016-08-22\n",
       "..           ...         ...\n",
       "352         77.0  2017-08-14\n",
       "353         77.0  2017-08-15\n",
       "354         76.0  2017-08-16\n",
       "355         76.0  2017-08-17\n",
       "356         79.0  2017-08-18\n",
       "\n",
       "[357 rows x 2 columns]"
      ]
     },
     "execution_count": 36,
     "metadata": {},
     "output_type": "execute_result"
    }
   ],
   "source": [
    "# Create a dataframe of the query data\n",
    "active_df = pd.DataFrame(twelve_months_active, columns=[\"temperature\", \"date\"])\n",
    "active_df"
   ]
  },
  {
   "cell_type": "markdown",
   "id": "addressed-energy",
   "metadata": {},
   "source": [
    "### Histogram of Temperature Frequency at Most Active Station:"
   ]
  },
  {
   "cell_type": "code",
   "execution_count": 37,
   "id": "reflected-swaziland",
   "metadata": {},
   "outputs": [
    {
     "data": {
      "image/png": "[encoded data removed]",
      "text/plain": [
       "<Figure size 720x432 with 1 Axes>"
      ]
     },
     "metadata": {},
     "output_type": "display_data"
    }
   ],
   "source": [
    "# Plot the results as a histogram\n",
    "active_df.hist(bins = 12, figsize=(10,6))\n",
    "plt.xlabel(\"Temperature\")\n",
    "plt.ylabel(\"Frequency\")\n",
    "plt.title(f\"Temperature of {most_active_station[0]} in the Last 12 Months\")\n",
    "plt.show()"
   ]
  },
  {
   "cell_type": "code",
   "execution_count": 38,
   "id": "disciplinary-scout",
   "metadata": {},
   "outputs": [],
   "source": [
    "# Close the session\n",
    "session.close()"
   ]
  }
 ],
 "metadata": {
  "kernelspec": {
   "display_name": "Python [conda env:PythonData] *",
   "language": "python",
   "name": "conda-env-PythonData-py"
  },
  "language_info": {
   "codemirror_mode": {
    "name": "ipython",
    "version": 3
   },
   "file_extension": ".py",
   "mimetype": "text/x-python",
   "name": "python",
   "nbconvert_exporter": "python",
   "pygments_lexer": "ipython3",
   "version": "3.6.10"
  }
 },
 "nbformat": 4,
 "nbformat_minor": 5
}
