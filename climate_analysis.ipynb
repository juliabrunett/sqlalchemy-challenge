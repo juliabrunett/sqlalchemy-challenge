{
 "cells": [
  {
   "cell_type": "code",
   "execution_count": null,
   "id": "checked-candy",
   "metadata": {},
   "outputs": [],
   "source": [
    "# Import SQL alchemy dependencies\n",
    "from sqlalchemy import create_engine\n",
    "from sqlalchemy.ect.automap import automap_base\n",
    "from sqlalchemy.orm import Session\n",
    "from sqlalchemy import func\n",
    "\n",
    "# Import other dependencies\n",
    "import pandas as pd\n",
    "import matplotlib.pyplt as plt\n",
    "import numpy as np\n",
    "import datetime as dt\n",
    "#%matplotlib inline\n",
    "#from matplotlib import style\n",
    "#style.use('fivethirtyeight')"
   ]
  },
  {
   "cell_type": "markdown",
   "id": "coordinate-nelson",
   "metadata": {},
   "source": [
    "### Reflect Tables into SQLAlchemy ORM"
   ]
  },
  {
   "cell_type": "code",
   "execution_count": null,
   "id": "toxic-warrior",
   "metadata": {},
   "outputs": [],
   "source": [
    "# Create engine to the hawaii database\n",
    "engine = create_engine(\"sqlite:///Resources/hawaii.sqlite\")"
   ]
  },
  {
   "cell_type": "code",
   "execution_count": null,
   "id": "dangerous-judge",
   "metadata": {},
   "outputs": [],
   "source": [
    "# Create automap base\n",
    "Base = automap_base()\n",
    "\n",
    "# Prepare base to reflect tables\n",
    "Base.prepare(engine, reflect=True)"
   ]
  },
  {
   "cell_type": "code",
   "execution_count": null,
   "id": "macro-thumbnail",
   "metadata": {},
   "outputs": [],
   "source": [
    "# Print classes from base\n",
    "Base.classes.keys()"
   ]
  },
  {
   "cell_type": "code",
   "execution_count": null,
   "id": "anonymous-ambassador",
   "metadata": {},
   "outputs": [],
   "source": [
    "# Save a reference to the classes\n",
    "Station = Base.classes.station\n",
    "Measurement = Base.classes.measurement"
   ]
  },
  {
   "cell_type": "code",
   "execution_count": null,
   "id": "matched-saskatchewan",
   "metadata": {},
   "outputs": [],
   "source": [
    "# Begin a session\n",
    "session = Session(engine)"
   ]
  },
  {
   "cell_type": "markdown",
   "id": "eight-entity",
   "metadata": {},
   "source": [
    "### Exploratory Precipitation Analysis"
   ]
  },
  {
   "cell_type": "markdown",
   "id": "missing-revelation",
   "metadata": {},
   "source": [
    "### Exploratory Station Analysis"
   ]
  },
  {
   "cell_type": "code",
   "execution_count": null,
   "id": "disciplinary-scout",
   "metadata": {},
   "outputs": [],
   "source": [
    "# Close the session\n",
    "session.close()"
   ]
  },
  {
   "cell_type": "code",
   "execution_count": null,
   "id": "precise-encyclopedia",
   "metadata": {},
   "outputs": [],
   "source": []
  }
 ],
 "metadata": {
  "kernelspec": {
   "display_name": "Python [conda env:PythonData] *",
   "language": "python",
   "name": "conda-env-PythonData-py"
  },
  "language_info": {
   "codemirror_mode": {
    "name": "ipython",
    "version": 3
   },
   "file_extension": ".py",
   "mimetype": "text/x-python",
   "name": "python",
   "nbconvert_exporter": "python",
   "pygments_lexer": "ipython3",
   "version": "3.6.10"
  }
 },
 "nbformat": 4,
 "nbformat_minor": 5
}
