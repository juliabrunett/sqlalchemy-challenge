{
 "cells": [
  {
   "cell_type": "code",
   "execution_count": 1,
   "id": "checked-candy",
   "metadata": {},
   "outputs": [],
   "source": [
    "# Import SQL alchemy dependencies\n",
    "from sqlalchemy import create_engine\n",
    "from sqlalchemy.ext.automap import automap_base\n",
    "from sqlalchemy.orm import Session\n",
    "from sqlalchemy import func, inspect\n",
    "\n",
    "# Import other dependencies\n",
    "import pandas as pd\n",
    "import matplotlib.pyplot as plt\n",
    "import numpy as np\n",
    "import datetime as dt\n",
    "\n",
    "%matplotlib inline\n",
    "from matplotlib import style\n",
    "style.use('fivethirtyeight')"
   ]
  },
  {
   "cell_type": "markdown",
   "id": "coordinate-nelson",
   "metadata": {},
   "source": [
    "### Reflect Tables into SQLAlchemy ORM"
   ]
  },
  {
   "cell_type": "code",
   "execution_count": 2,
   "id": "toxic-warrior",
   "metadata": {},
   "outputs": [],
   "source": [
    "# Create engine to the hawaii database\n",
    "engine = create_engine(\"sqlite:///Resources/hawaii.sqlite\")"
   ]
  },
  {
   "cell_type": "code",
   "execution_count": 3,
   "id": "dangerous-judge",
   "metadata": {},
   "outputs": [],
   "source": [
    "# Create automap base\n",
    "Base = automap_base()\n",
    "\n",
    "# Prepare base to reflect tables\n",
    "Base.prepare(engine, reflect=True)"
   ]
  },
  {
   "cell_type": "code",
   "execution_count": 4,
   "id": "macro-thumbnail",
   "metadata": {},
   "outputs": [
    {
     "data": {
      "text/plain": [
       "['measurement', 'station']"
      ]
     },
     "execution_count": 4,
     "metadata": {},
     "output_type": "execute_result"
    }
   ],
   "source": [
    "# Print classes from base\n",
    "Base.classes.keys()"
   ]
  },
  {
   "cell_type": "code",
   "execution_count": 5,
   "id": "anonymous-ambassador",
   "metadata": {},
   "outputs": [],
   "source": [
    "# Save a reference to the classes\n",
    "Station = Base.classes.station\n",
    "Measurement = Base.classes.measurement"
   ]
  },
  {
   "cell_type": "code",
   "execution_count": 6,
   "id": "matched-saskatchewan",
   "metadata": {},
   "outputs": [],
   "source": [
    "# Begin a session\n",
    "session = Session(engine)"
   ]
  },
  {
   "cell_type": "markdown",
   "id": "eight-entity",
   "metadata": {},
   "source": [
    "### Exploratory Precipitation Analysis"
   ]
  },
  {
   "cell_type": "code",
   "execution_count": 7,
   "id": "narrow-costume",
   "metadata": {},
   "outputs": [
    {
     "data": {
      "text/plain": [
       "['measurement', 'station']"
      ]
     },
     "execution_count": 7,
     "metadata": {},
     "output_type": "execute_result"
    }
   ],
   "source": [
    "# Use inspector to see the class/table names (same as keys)\n",
    "inspector = inspect(engine)\n",
    "inspector.get_table_names()"
   ]
  },
  {
   "cell_type": "code",
   "execution_count": 8,
   "id": "weekly-hudson",
   "metadata": {},
   "outputs": [
    {
     "name": "stdout",
     "output_type": "stream",
     "text": [
      "id INTEGER\n",
      "station TEXT\n",
      "date TEXT\n",
      "prcp FLOAT\n",
      "tobs FLOAT\n"
     ]
    }
   ],
   "source": [
    "# Use inspector to see the column names for measurement\n",
    "columns_measurement = inspector.get_columns('measurement')\n",
    "\n",
    "for c in columns_measurement:\n",
    "    print(c[\"name\"], c[\"type\"])"
   ]
  },
  {
   "cell_type": "code",
   "execution_count": 9,
   "id": "common-thing",
   "metadata": {},
   "outputs": [
    {
     "data": {
      "text/plain": [
       "[(1, 'USC00519397', '2010-01-01', 0.08, 65.0),\n",
       " (2, 'USC00519397', '2010-01-02', 0.0, 63.0),\n",
       " (3, 'USC00519397', '2010-01-03', 0.0, 74.0),\n",
       " (4, 'USC00519397', '2010-01-04', 0.0, 76.0),\n",
       " (5, 'USC00519397', '2010-01-06', None, 73.0)]"
      ]
     },
     "execution_count": 9,
     "metadata": {},
     "output_type": "execute_result"
    }
   ],
   "source": [
    "# See the first five rows of data in measurment\n",
    "engine.execute(\"SELECT * FROM measurement LIMIT 5\").fetchall()"
   ]
  },
  {
   "cell_type": "code",
   "execution_count": 10,
   "id": "dental-sustainability",
   "metadata": {},
   "outputs": [
    {
     "data": {
      "text/plain": [
       "('2017-08-23',)"
      ]
     },
     "execution_count": 10,
     "metadata": {},
     "output_type": "execute_result"
    }
   ],
   "source": [
    "# Find the most recent date in measurement\n",
    "session.query(Measurement.date).order_by(Measurement.date.desc()).first()"
   ]
  },
  {
   "cell_type": "code",
   "execution_count": null,
   "id": "intellectual-auckland",
   "metadata": {},
   "outputs": [],
   "source": []
  },
  {
   "cell_type": "code",
   "execution_count": 11,
   "id": "institutional-satellite",
   "metadata": {},
   "outputs": [],
   "source": [
    "# Define selection values\n",
    "sel = [Measurement.date,\n",
    "       func.sum(Measurement.prcp)\n",
    "]\n",
    "\n",
    "# Retrieve the last 12 months of precipitation data\n",
    "twelve_months = session.query(*sel).\\\n",
    "    filter(Measurement.date <= '2017-08-23').\\\n",
    "    filter(Measurement.date >= '2016-08-23').\\\n",
    "    order_by(Measurement.date).group_by(Measurement.date).all()\n"
   ]
  },
  {
   "cell_type": "code",
   "execution_count": 12,
   "id": "immune-jewel",
   "metadata": {},
   "outputs": [
    {
     "data": {
      "text/html": [
       "<div>\n",
       "<style scoped>\n",
       "    .dataframe tbody tr th:only-of-type {\n",
       "        vertical-align: middle;\n",
       "    }\n",
       "\n",
       "    .dataframe tbody tr th {\n",
       "        vertical-align: top;\n",
       "    }\n",
       "\n",
       "    .dataframe thead th {\n",
       "        text-align: right;\n",
       "    }\n",
       "</style>\n",
       "<table border=\"1\" class=\"dataframe\">\n",
       "  <thead>\n",
       "    <tr style=\"text-align: right;\">\n",
       "      <th></th>\n",
       "      <th>date</th>\n",
       "      <th>precipitation</th>\n",
       "    </tr>\n",
       "  </thead>\n",
       "  <tbody>\n",
       "    <tr>\n",
       "      <th>0</th>\n",
       "      <td>2016-08-23</td>\n",
       "      <td>2.71</td>\n",
       "    </tr>\n",
       "    <tr>\n",
       "      <th>1</th>\n",
       "      <td>2016-08-24</td>\n",
       "      <td>9.33</td>\n",
       "    </tr>\n",
       "    <tr>\n",
       "      <th>2</th>\n",
       "      <td>2016-08-25</td>\n",
       "      <td>0.54</td>\n",
       "    </tr>\n",
       "    <tr>\n",
       "      <th>3</th>\n",
       "      <td>2016-08-26</td>\n",
       "      <td>0.10</td>\n",
       "    </tr>\n",
       "    <tr>\n",
       "      <th>4</th>\n",
       "      <td>2016-08-27</td>\n",
       "      <td>0.32</td>\n",
       "    </tr>\n",
       "    <tr>\n",
       "      <th>...</th>\n",
       "      <td>...</td>\n",
       "      <td>...</td>\n",
       "    </tr>\n",
       "    <tr>\n",
       "      <th>361</th>\n",
       "      <td>2017-08-19</td>\n",
       "      <td>0.09</td>\n",
       "    </tr>\n",
       "    <tr>\n",
       "      <th>362</th>\n",
       "      <td>2017-08-20</td>\n",
       "      <td>0.01</td>\n",
       "    </tr>\n",
       "    <tr>\n",
       "      <th>363</th>\n",
       "      <td>2017-08-21</td>\n",
       "      <td>0.58</td>\n",
       "    </tr>\n",
       "    <tr>\n",
       "      <th>364</th>\n",
       "      <td>2017-08-22</td>\n",
       "      <td>0.50</td>\n",
       "    </tr>\n",
       "    <tr>\n",
       "      <th>365</th>\n",
       "      <td>2017-08-23</td>\n",
       "      <td>0.53</td>\n",
       "    </tr>\n",
       "  </tbody>\n",
       "</table>\n",
       "<p>366 rows × 2 columns</p>\n",
       "</div>"
      ],
      "text/plain": [
       "           date  precipitation\n",
       "0    2016-08-23           2.71\n",
       "1    2016-08-24           9.33\n",
       "2    2016-08-25           0.54\n",
       "3    2016-08-26           0.10\n",
       "4    2016-08-27           0.32\n",
       "..          ...            ...\n",
       "361  2017-08-19           0.09\n",
       "362  2017-08-20           0.01\n",
       "363  2017-08-21           0.58\n",
       "364  2017-08-22           0.50\n",
       "365  2017-08-23           0.53\n",
       "\n",
       "[366 rows x 2 columns]"
      ]
     },
     "execution_count": 12,
     "metadata": {},
     "output_type": "execute_result"
    }
   ],
   "source": [
    "# Load the query results into a DataFrame\n",
    "measurement_df = pd.DataFrame(twelve_months, columns = [\"date\", \"precipitation\"])\n",
    "measurement_df"
   ]
  },
  {
   "cell_type": "code",
   "execution_count": 13,
   "id": "stone-astrology",
   "metadata": {},
   "outputs": [
    {
     "data": {
      "text/plain": [
       "366"
      ]
     },
     "execution_count": 13,
     "metadata": {},
     "output_type": "execute_result"
    }
   ],
   "source": [
    "# Find the number of dates\n",
    "date_count = measurement_df['date'].count()\n",
    "date_count"
   ]
  },
  {
   "cell_type": "code",
   "execution_count": 14,
   "id": "documentary-posting",
   "metadata": {},
   "outputs": [
    {
     "data": {
      "text/plain": [
       "30.5"
      ]
     },
     "execution_count": 14,
     "metadata": {},
     "output_type": "execute_result"
    }
   ],
   "source": [
    "# Figure out the number to increment x-ticks\n",
    "divided = date_count / 12\n",
    "divided"
   ]
  },
  {
   "cell_type": "code",
   "execution_count": 15,
   "id": "subsequent-identification",
   "metadata": {},
   "outputs": [],
   "source": [
    "# Find date labels for dates every 31 days\n",
    "date_labels = []\n",
    "date = dt.date(2016,8,23)\n",
    "start_date_str = date.strftime(\"%Y-%m-%d\")\n",
    "date_labels.append(start_date_str)\n",
    "\n",
    "for x in range(0,11):\n",
    "    date = date + dt.timedelta(days=31)\n",
    "    date_str = date.strftime(\"%Y-%m-%d\")\n",
    "    date_labels.append(date_str)"
   ]
  },
  {
   "cell_type": "code",
   "execution_count": 16,
   "id": "stunning-lafayette",
   "metadata": {
    "scrolled": true
   },
   "outputs": [
    {
     "data": {
      "text/plain": [
       "['2016-08-23',\n",
       " '2016-09-23',\n",
       " '2016-10-24',\n",
       " '2016-11-24',\n",
       " '2016-12-25',\n",
       " '2017-01-25',\n",
       " '2017-02-25',\n",
       " '2017-03-28',\n",
       " '2017-04-28',\n",
       " '2017-05-29',\n",
       " '2017-06-29',\n",
       " '2017-07-30']"
      ]
     },
     "execution_count": 16,
     "metadata": {},
     "output_type": "execute_result"
    }
   ],
   "source": [
    "# Print date labels to check\n",
    "date_labels"
   ]
  },
  {
   "cell_type": "code",
   "execution_count": 17,
   "id": "coordinated-rochester",
   "metadata": {
    "scrolled": true
   },
   "outputs": [
    {
     "data": {
      "text/html": [
       "<div>\n",
       "<style scoped>\n",
       "    .dataframe tbody tr th:only-of-type {\n",
       "        vertical-align: middle;\n",
       "    }\n",
       "\n",
       "    .dataframe tbody tr th {\n",
       "        vertical-align: top;\n",
       "    }\n",
       "\n",
       "    .dataframe thead th {\n",
       "        text-align: right;\n",
       "    }\n",
       "</style>\n",
       "<table border=\"1\" class=\"dataframe\">\n",
       "  <thead>\n",
       "    <tr style=\"text-align: right;\">\n",
       "      <th></th>\n",
       "      <th>precipitation</th>\n",
       "    </tr>\n",
       "    <tr>\n",
       "      <th>date</th>\n",
       "      <th></th>\n",
       "    </tr>\n",
       "  </thead>\n",
       "  <tbody>\n",
       "    <tr>\n",
       "      <th>2016-08-23</th>\n",
       "      <td>2.71</td>\n",
       "    </tr>\n",
       "    <tr>\n",
       "      <th>2016-08-24</th>\n",
       "      <td>9.33</td>\n",
       "    </tr>\n",
       "    <tr>\n",
       "      <th>2016-08-25</th>\n",
       "      <td>0.54</td>\n",
       "    </tr>\n",
       "    <tr>\n",
       "      <th>2016-08-26</th>\n",
       "      <td>0.10</td>\n",
       "    </tr>\n",
       "    <tr>\n",
       "      <th>2016-08-27</th>\n",
       "      <td>0.32</td>\n",
       "    </tr>\n",
       "    <tr>\n",
       "      <th>...</th>\n",
       "      <td>...</td>\n",
       "    </tr>\n",
       "    <tr>\n",
       "      <th>2017-08-19</th>\n",
       "      <td>0.09</td>\n",
       "    </tr>\n",
       "    <tr>\n",
       "      <th>2017-08-20</th>\n",
       "      <td>0.01</td>\n",
       "    </tr>\n",
       "    <tr>\n",
       "      <th>2017-08-21</th>\n",
       "      <td>0.58</td>\n",
       "    </tr>\n",
       "    <tr>\n",
       "      <th>2017-08-22</th>\n",
       "      <td>0.50</td>\n",
       "    </tr>\n",
       "    <tr>\n",
       "      <th>2017-08-23</th>\n",
       "      <td>0.53</td>\n",
       "    </tr>\n",
       "  </tbody>\n",
       "</table>\n",
       "<p>366 rows × 1 columns</p>\n",
       "</div>"
      ],
      "text/plain": [
       "            precipitation\n",
       "date                     \n",
       "2016-08-23           2.71\n",
       "2016-08-24           9.33\n",
       "2016-08-25           0.54\n",
       "2016-08-26           0.10\n",
       "2016-08-27           0.32\n",
       "...                   ...\n",
       "2017-08-19           0.09\n",
       "2017-08-20           0.01\n",
       "2017-08-21           0.58\n",
       "2017-08-22           0.50\n",
       "2017-08-23           0.53\n",
       "\n",
       "[366 rows x 1 columns]"
      ]
     },
     "execution_count": 17,
     "metadata": {},
     "output_type": "execute_result"
    }
   ],
   "source": [
    "# Set the date as the index and sort by date\n",
    "measurement_df.set_index(\"date\", inplace=True)\n",
    "measurement_df.sort_values(\"date\")"
   ]
  },
  {
   "cell_type": "code",
   "execution_count": 18,
   "id": "intense-canada",
   "metadata": {},
   "outputs": [
    {
     "data": {
      "image/png": "[encoded data removed]",
      "text/plain": [
       "<Figure size 720x432 with 1 Axes>"
      ]
     },
     "metadata": {},
     "output_type": "display_data"
    }
   ],
   "source": [
    "# Plot the results using the DataFrame plot method\n",
    "ax = measurement_df.plot(rot = 90, kind=\"bar\", figsize=(10, 6), width=3)\n",
    "plt.tight_layout()\n",
    "plt.xticks(np.arange(0,date_count,31), date_labels)\n",
    "plt.xlabel(\"Date\")\n",
    "plt.ylabel(\"Inches\")\n",
    "plt.ylim(-1,14.5)\n",
    "plt.title(\"Precipitation in the Last 12 Months\")\n",
    "plt.show()"
   ]
  },
  {
   "cell_type": "code",
   "execution_count": 19,
   "id": "statewide-variance",
   "metadata": {},
   "outputs": [
    {
     "data": {
      "text/plain": [
       "count    366.000000\n",
       "mean       0.978907\n",
       "std        1.776349\n",
       "min        0.000000\n",
       "25%        0.052500\n",
       "50%        0.405000\n",
       "75%        1.087500\n",
       "max       14.280000\n",
       "Name: precipitation, dtype: float64"
      ]
     },
     "execution_count": 19,
     "metadata": {},
     "output_type": "execute_result"
    }
   ],
   "source": [
    "# Summary statistics\n",
    "measurement_df[\"precipitation\"].describe()"
   ]
  },
  {
   "cell_type": "code",
   "execution_count": 20,
   "id": "speaking-advice",
   "metadata": {},
   "outputs": [],
   "source": [
    "# Calculate stats for table\n",
    "max_prcp = measurement_df[\"precipitation\"].max()\n",
    "min_prcp = measurement_df[\"precipitation\"].min()\n",
    "std_prcp = measurement_df[\"precipitation\"].std()\n",
    "avg_prcp = measurement_df[\"precipitation\"].mean()\n",
    "median_prcp = measurement_df[\"precipitation\"].median()"
   ]
  },
  {
   "cell_type": "code",
   "execution_count": 21,
   "id": "proper-panic",
   "metadata": {},
   "outputs": [
    {
     "data": {
      "text/html": [
       "<div>\n",
       "<style scoped>\n",
       "    .dataframe tbody tr th:only-of-type {\n",
       "        vertical-align: middle;\n",
       "    }\n",
       "\n",
       "    .dataframe tbody tr th {\n",
       "        vertical-align: top;\n",
       "    }\n",
       "\n",
       "    .dataframe thead th {\n",
       "        text-align: right;\n",
       "    }\n",
       "</style>\n",
       "<table border=\"1\" class=\"dataframe\">\n",
       "  <thead>\n",
       "    <tr style=\"text-align: right;\">\n",
       "      <th></th>\n",
       "      <th>Mean</th>\n",
       "      <th>Max</th>\n",
       "      <th>Min</th>\n",
       "      <th>Standard Dev</th>\n",
       "      <th>Median</th>\n",
       "    </tr>\n",
       "  </thead>\n",
       "  <tbody>\n",
       "    <tr>\n",
       "      <th>0</th>\n",
       "      <td>0.978907</td>\n",
       "      <td>14.28</td>\n",
       "      <td>0.0</td>\n",
       "      <td>1.776349</td>\n",
       "      <td>0.405</td>\n",
       "    </tr>\n",
       "  </tbody>\n",
       "</table>\n",
       "</div>"
      ],
      "text/plain": [
       "       Mean    Max  Min  Standard Dev  Median\n",
       "0  0.978907  14.28  0.0      1.776349   0.405"
      ]
     },
     "execution_count": 21,
     "metadata": {},
     "output_type": "execute_result"
    }
   ],
   "source": [
    "# Stats Table\n",
    "stats_table = pd.DataFrame({\n",
    "    \"Mean\": avg_prcp,\n",
    "    \"Max\": max_prcp,\n",
    "    \"Min\": min_prcp,\n",
    "    \"Standard Dev\": std_prcp,\n",
    "    \"Median\": median_prcp\n",
    "}, index=[0])\n",
    "\n",
    "stats_table"
   ]
  },
  {
   "cell_type": "markdown",
   "id": "missing-revelation",
   "metadata": {},
   "source": [
    "### Exploratory Station Analysis"
   ]
  },
  {
   "cell_type": "code",
   "execution_count": 22,
   "id": "burning-kazakhstan",
   "metadata": {},
   "outputs": [
    {
     "name": "stdout",
     "output_type": "stream",
     "text": [
      "id INTEGER\n",
      "station TEXT\n",
      "name TEXT\n",
      "latitude FLOAT\n",
      "longitude FLOAT\n",
      "elevation FLOAT\n"
     ]
    }
   ],
   "source": [
    "# Use inspector to see the column names for station\n",
    "columns_station = inspector.get_columns('station')\n",
    "\n",
    "for c in columns_station:\n",
    "    print(c[\"name\"], c[\"type\"])"
   ]
  },
  {
   "cell_type": "code",
   "execution_count": 23,
   "id": "extensive-medicine",
   "metadata": {},
   "outputs": [
    {
     "data": {
      "text/plain": [
       "[(1, 'USC00519397', 'WAIKIKI 717.2, HI US', 21.2716, -157.8168, 3.0),\n",
       " (2, 'USC00513117', 'KANEOHE 838.1, HI US', 21.4234, -157.8015, 14.6),\n",
       " (3, 'USC00514830', 'KUALOA RANCH HEADQUARTERS 886.9, HI US', 21.5213, -157.8374, 7.0),\n",
       " (4, 'USC00517948', 'PEARL CITY, HI US', 21.3934, -157.9751, 11.9),\n",
       " (5, 'USC00518838', 'UPPER WAHIAWA 874.3, HI US', 21.4992, -158.0111, 306.6),\n",
       " (6, 'USC00519523', 'WAIMANALO EXPERIMENTAL FARM, HI US', 21.33556, -157.71139, 19.5),\n",
       " (7, 'USC00519281', 'WAIHEE 837.5, HI US', 21.45167, -157.84888999999998, 32.9),\n",
       " (8, 'USC00511918', 'HONOLULU OBSERVATORY 702.2, HI US', 21.3152, -157.9992, 0.9),\n",
       " (9, 'USC00516128', 'MANOA LYON ARBO 785.2, HI US', 21.3331, -157.8025, 152.4)]"
      ]
     },
     "execution_count": 23,
     "metadata": {},
     "output_type": "execute_result"
    }
   ],
   "source": [
    "# See the rows of data in station\n",
    "engine.execute(\"SELECT * FROM station\").fetchall()"
   ]
  },
  {
   "cell_type": "code",
   "execution_count": 24,
   "id": "tested-magazine",
   "metadata": {},
   "outputs": [
    {
     "data": {
      "text/plain": [
       "[(9,)]"
      ]
     },
     "execution_count": 24,
     "metadata": {},
     "output_type": "execute_result"
    }
   ],
   "source": [
    "# Query to calculate the total number of stations\n",
    "session.query(func.count(Station.station)).all()"
   ]
  },
  {
   "cell_type": "code",
   "execution_count": 25,
   "id": "medium-personality",
   "metadata": {},
   "outputs": [
    {
     "data": {
      "text/plain": [
       "[(7, 'USC00519281', 'WAIHEE 837.5, HI US', 2772),\n",
       " (1, 'USC00519397', 'WAIKIKI 717.2, HI US', 2724),\n",
       " (2, 'USC00513117', 'KANEOHE 838.1, HI US', 2709),\n",
       " (6, 'USC00519523', 'WAIMANALO EXPERIMENTAL FARM, HI US', 2669),\n",
       " (9, 'USC00516128', 'MANOA LYON ARBO 785.2, HI US', 2612),\n",
       " (3, 'USC00514830', 'KUALOA RANCH HEADQUARTERS 886.9, HI US', 2202),\n",
       " (8, 'USC00511918', 'HONOLULU OBSERVATORY 702.2, HI US', 1979),\n",
       " (4, 'USC00517948', 'PEARL CITY, HI US', 1372),\n",
       " (5, 'USC00518838', 'UPPER WAHIAWA 874.3, HI US', 511)]"
      ]
     },
     "execution_count": 25,
     "metadata": {},
     "output_type": "execute_result"
    }
   ],
   "source": [
    "# Query to find the most active stations \n",
    "sel = [Station.id,\n",
    "    Station.station,\n",
    "    Station.name,\n",
    "    func.count(Measurement.id)\n",
    "]\n",
    "\n",
    "# Create query that filters by the join between the tables\n",
    "session.query(*sel).filter(Station.station == Measurement.station).\\\n",
    "    group_by(Station.id).order_by(func.count(Measurement.id).desc()).all()"
   ]
  },
  {
   "cell_type": "markdown",
   "id": "sharp-crest",
   "metadata": {},
   "source": [
    "### Station ID: 7 has the highest number of observations"
   ]
  },
  {
   "cell_type": "code",
   "execution_count": 26,
   "id": "greenhouse-crack",
   "metadata": {},
   "outputs": [
    {
     "data": {
      "text/plain": [
       "'USC00519281'"
      ]
     },
     "execution_count": 26,
     "metadata": {},
     "output_type": "execute_result"
    }
   ],
   "source": [
    "# Find the station name of the most active station\n",
    "most_active_station = session.query(Station.station).filter(Station.station == Measurement.station).\\\n",
    "    group_by(Station.id).order_by(func.count(Measurement.id).desc()).first()\n",
    "\n",
    "most_active_station[0]"
   ]
  },
  {
   "cell_type": "code",
   "execution_count": 27,
   "id": "identified-panama",
   "metadata": {},
   "outputs": [
    {
     "name": "stdout",
     "output_type": "stream",
     "text": [
      "The lowest temperature at USC00519281 is 53.0.\n",
      "The highest temperature at USC00519281 is 87.0.\n",
      "The average temperature at USC00519281 is  73.098.\n"
     ]
    }
   ],
   "source": [
    "# Define what we will be selecting\n",
    "sel = [\n",
    "    func.min(Measurement.tobs),\n",
    "    func.max(Measurement.tobs),\n",
    "    func.avg(Measurement.tobs)\n",
    "]\n",
    "\n",
    "# Query the database to get the above selections\n",
    "calculations = session.query(*sel).all()\n",
    "\n",
    "# Pull the data out of the tuple\n",
    "for record in calculations:\n",
    "    (min_temp, max_temp, avg_temp) = record\n",
    "\n",
    "# Print the most active station's stats\n",
    "print(f\"The lowest temperature at {most_active_station[0]} is {min_temp}.\")\n",
    "print(f\"The highest temperature at {most_active_station[0]} is {max_temp}.\")\n",
    "print(f\"The average temperature at {most_active_station[0]} is {avg_temp: .3f}.\")\n"
   ]
  },
  {
   "cell_type": "code",
   "execution_count": 28,
   "id": "looking-humanity",
   "metadata": {},
   "outputs": [],
   "source": [
    "# Retrieve the last 12 months of data for most active\n",
    "sel = [Measurement.tobs,\n",
    "   Measurement.date\n",
    "]\n",
    "\n",
    "twelve_months_active = session.query(*sel).\\\n",
    "    filter(Measurement.date <= '2017-08-23').\\\n",
    "    filter(Measurement.date >= '2016-08-23').\\\n",
    "    filter(Measurement.station == \"USC00519281\").\\\n",
    "    order_by(Measurement.date).all()\n"
   ]
  },
  {
   "cell_type": "code",
   "execution_count": 29,
   "id": "ideal-raise",
   "metadata": {},
   "outputs": [
    {
     "data": {
      "text/html": [
       "<div>\n",
       "<style scoped>\n",
       "    .dataframe tbody tr th:only-of-type {\n",
       "        vertical-align: middle;\n",
       "    }\n",
       "\n",
       "    .dataframe tbody tr th {\n",
       "        vertical-align: top;\n",
       "    }\n",
       "\n",
       "    .dataframe thead th {\n",
       "        text-align: right;\n",
       "    }\n",
       "</style>\n",
       "<table border=\"1\" class=\"dataframe\">\n",
       "  <thead>\n",
       "    <tr style=\"text-align: right;\">\n",
       "      <th></th>\n",
       "      <th>temperature</th>\n",
       "      <th>date</th>\n",
       "    </tr>\n",
       "  </thead>\n",
       "  <tbody>\n",
       "    <tr>\n",
       "      <th>0</th>\n",
       "      <td>77.0</td>\n",
       "      <td>2016-08-23</td>\n",
       "    </tr>\n",
       "    <tr>\n",
       "      <th>1</th>\n",
       "      <td>77.0</td>\n",
       "      <td>2016-08-24</td>\n",
       "    </tr>\n",
       "    <tr>\n",
       "      <th>2</th>\n",
       "      <td>80.0</td>\n",
       "      <td>2016-08-25</td>\n",
       "    </tr>\n",
       "    <tr>\n",
       "      <th>3</th>\n",
       "      <td>80.0</td>\n",
       "      <td>2016-08-26</td>\n",
       "    </tr>\n",
       "    <tr>\n",
       "      <th>4</th>\n",
       "      <td>75.0</td>\n",
       "      <td>2016-08-27</td>\n",
       "    </tr>\n",
       "    <tr>\n",
       "      <th>...</th>\n",
       "      <td>...</td>\n",
       "      <td>...</td>\n",
       "    </tr>\n",
       "    <tr>\n",
       "      <th>347</th>\n",
       "      <td>77.0</td>\n",
       "      <td>2017-08-14</td>\n",
       "    </tr>\n",
       "    <tr>\n",
       "      <th>348</th>\n",
       "      <td>77.0</td>\n",
       "      <td>2017-08-15</td>\n",
       "    </tr>\n",
       "    <tr>\n",
       "      <th>349</th>\n",
       "      <td>76.0</td>\n",
       "      <td>2017-08-16</td>\n",
       "    </tr>\n",
       "    <tr>\n",
       "      <th>350</th>\n",
       "      <td>76.0</td>\n",
       "      <td>2017-08-17</td>\n",
       "    </tr>\n",
       "    <tr>\n",
       "      <th>351</th>\n",
       "      <td>79.0</td>\n",
       "      <td>2017-08-18</td>\n",
       "    </tr>\n",
       "  </tbody>\n",
       "</table>\n",
       "<p>352 rows × 2 columns</p>\n",
       "</div>"
      ],
      "text/plain": [
       "     temperature        date\n",
       "0           77.0  2016-08-23\n",
       "1           77.0  2016-08-24\n",
       "2           80.0  2016-08-25\n",
       "3           80.0  2016-08-26\n",
       "4           75.0  2016-08-27\n",
       "..           ...         ...\n",
       "347         77.0  2017-08-14\n",
       "348         77.0  2017-08-15\n",
       "349         76.0  2017-08-16\n",
       "350         76.0  2017-08-17\n",
       "351         79.0  2017-08-18\n",
       "\n",
       "[352 rows x 2 columns]"
      ]
     },
     "execution_count": 29,
     "metadata": {},
     "output_type": "execute_result"
    }
   ],
   "source": [
    "# Create a dataframe of the query data\n",
    "active_df = pd.DataFrame(twelve_months_active, columns=[\"temperature\", \"date\"])\n",
    "active_df"
   ]
  },
  {
   "cell_type": "code",
   "execution_count": 30,
   "id": "reflected-swaziland",
   "metadata": {},
   "outputs": [
    {
     "data": {
      "image/png": "[encoded data removed]",
      "text/plain": [
       "<Figure size 720x432 with 1 Axes>"
      ]
     },
     "metadata": {},
     "output_type": "display_data"
    }
   ],
   "source": [
    "# Plot the results as a histogram\n",
    "active_df.hist(bins = 12, figsize=(10,6))\n",
    "plt.xlabel(\"Temperature\")\n",
    "plt.ylabel(\"Frequency\")\n",
    "plt.title(f\"Temperature of {most_active_station[0]} in the Last 12 Months\")\n",
    "plt.show()"
   ]
  },
  {
   "cell_type": "code",
   "execution_count": 31,
   "id": "disciplinary-scout",
   "metadata": {},
   "outputs": [],
   "source": [
    "# Close the session\n",
    "session.close()"
   ]
  },
  {
   "cell_type": "code",
   "execution_count": null,
   "id": "precise-encyclopedia",
   "metadata": {},
   "outputs": [],
   "source": []
  }
 ],
 "metadata": {
  "kernelspec": {
   "display_name": "Python [conda env:PythonData] *",
   "language": "python",
   "name": "conda-env-PythonData-py"
  },
  "language_info": {
   "codemirror_mode": {
    "name": "ipython",
    "version": 3
   },
   "file_extension": ".py",
   "mimetype": "text/x-python",
   "name": "python",
   "nbconvert_exporter": "python",
   "pygments_lexer": "ipython3",
   "version": "3.6.10"
  }
 },
 "nbformat": 4,
 "nbformat_minor": 5
}
